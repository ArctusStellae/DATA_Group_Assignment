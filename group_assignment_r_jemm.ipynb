{
 "cells": [
  {
   "cell_type": "markdown",
   "metadata": {},
   "source": [
    "Load!"
   ]
  },
  {
   "cell_type": "code",
   "execution_count": 2,
   "metadata": {
    "vscode": {
     "languageId": "r"
    }
   },
   "outputs": [
    {
     "name": "stderr",
     "output_type": "stream",
     "text": [
      "── \u001b[1mAttaching core tidyverse packages\u001b[22m ──────────────────────── tidyverse 2.0.0 ──\n",
      "\u001b[32m✔\u001b[39m \u001b[34mdplyr    \u001b[39m 1.1.2     \u001b[32m✔\u001b[39m \u001b[34mreadr    \u001b[39m 2.1.4\n",
      "\u001b[32m✔\u001b[39m \u001b[34mforcats  \u001b[39m 1.0.0     \u001b[32m✔\u001b[39m \u001b[34mstringr  \u001b[39m 1.5.0\n",
      "\u001b[32m✔\u001b[39m \u001b[34mggplot2  \u001b[39m 3.4.2     \u001b[32m✔\u001b[39m \u001b[34mtibble   \u001b[39m 3.2.1\n",
      "\u001b[32m✔\u001b[39m \u001b[34mlubridate\u001b[39m 1.9.2     \u001b[32m✔\u001b[39m \u001b[34mtidyr    \u001b[39m 1.3.0\n",
      "\u001b[32m✔\u001b[39m \u001b[34mpurrr    \u001b[39m 1.0.1     \n",
      "── \u001b[1mConflicts\u001b[22m ────────────────────────────────────────── tidyverse_conflicts() ──\n",
      "\u001b[31m✖\u001b[39m \u001b[34mdplyr\u001b[39m::\u001b[32mfilter()\u001b[39m masks \u001b[34mstats\u001b[39m::filter()\n",
      "\u001b[31m✖\u001b[39m \u001b[34mdplyr\u001b[39m::\u001b[32mlag()\u001b[39m    masks \u001b[34mstats\u001b[39m::lag()\n",
      "\u001b[36mℹ\u001b[39m Use the conflicted package (\u001b[3m\u001b[34m<http://conflicted.r-lib.org/>\u001b[39m\u001b[23m) to force all conflicts to become errors\n",
      "\n",
      "Attaching package: 'magrittr'\n",
      "\n",
      "\n",
      "The following object is masked from 'package:purrr':\n",
      "\n",
      "    set_names\n",
      "\n",
      "\n",
      "The following object is masked from 'package:tidyr':\n",
      "\n",
      "    extract\n",
      "\n",
      "\n"
     ]
    }
   ],
   "source": [
    "library(tidyverse);\n",
    "library(magrittr); # better handling of pipes\n",
    "library(skimr);\n",
    "library(knitr);"
   ]
  },
  {
   "cell_type": "code",
   "execution_count": 3,
   "metadata": {
    "vscode": {
     "languageId": "r"
    }
   },
   "outputs": [
    {
     "name": "stderr",
     "output_type": "stream",
     "text": [
      "\u001b[1mRows: \u001b[22m\u001b[34m2402339\u001b[39m \u001b[1mColumns: \u001b[22m\u001b[34m16\u001b[39m\n",
      "\u001b[36m──\u001b[39m \u001b[1mColumn specification\u001b[22m \u001b[36m────────────────────────────────────────────────────────\u001b[39m\n",
      "\u001b[1mDelimiter:\u001b[22m \",\"\n",
      "\u001b[31mchr\u001b[39m  (10): council_name, airshed_name, site_name, site_type, contaminant, un...\n",
      "\u001b[32mdbl\u001b[39m   (3): site_lat, site_long, value\n",
      "\u001b[34mdttm\u001b[39m  (1): observation_date\n",
      "\u001b[34mdate\u001b[39m  (1): obs_date\n",
      "\u001b[34mtime\u001b[39m  (1): obs_time\n",
      "\n",
      "\u001b[36mℹ\u001b[39m Use `spec()` to retrieve the full column specification for this data.\n",
      "\u001b[36mℹ\u001b[39m Specify the column types or set `show_col_types = FALSE` to quiet this message.\n"
     ]
    },
    {
     "data": {
      "text/plain": [
       "\n",
       "\n",
       "|skim_type |skim_variable     | n_missing| complete_rate|Date.min   |Date.max   |Date.median | Date.n_unique|POSIXct.min |POSIXct.max |POSIXct.median      | POSIXct.n_unique| character.min| character.max| character.empty| character.n_unique| character.whitespace|difftime.min |difftime.max |difftime.median | difftime.n_unique| numeric.mean| numeric.sd| numeric.p0| numeric.p25| numeric.p50| numeric.p75| numeric.p100|numeric.hist |\n",
       "|:---------|:-----------------|---------:|-------------:|:----------|:----------|:-----------|-------------:|:-----------|:-----------|:-------------------|----------------:|-------------:|-------------:|---------------:|------------------:|--------------------:|:------------|:------------|:---------------|-----------------:|------------:|----------:|----------:|-----------:|-----------:|-----------:|------------:|:------------|\n",
       "|Date      |obs_date          |       268|     0.9998884|2013-10-01 |2023-10-01 |2018-05-07  |          3653|NA          |NA          |NA                  |               NA|            NA|            NA|              NA|                 NA|                   NA|NA secs      |NA secs      |NA              |                NA|           NA|         NA|         NA|          NA|          NA|          NA|           NA|NA           |\n",
       "|POSIXct   |observation_date  |       268|     0.9998884|NA         |NA         |NA          |            NA|2013-10-01  |2023-10-01  |2018-05-07 04:00:00 |            87640|            NA|            NA|              NA|                 NA|                   NA|NA secs      |NA secs      |NA              |                NA|           NA|         NA|         NA|          NA|          NA|          NA|           NA|NA           |\n",
       "|character |council_name      |         0|     1.0000000|NA         |NA         |NA          |            NA|NA          |NA          |NA                  |               NA|            22|            22|               0|                  1|                    0|NA secs      |NA secs      |NA              |                NA|           NA|         NA|         NA|          NA|          NA|          NA|           NA|NA           |\n",
       "|character |airshed_name      |         0|     1.0000000|NA         |NA         |NA          |            NA|NA          |NA          |NA                  |               NA|             6|            12|               0|                  8|                    0|NA secs      |NA secs      |NA              |                NA|           NA|         NA|         NA|          NA|          NA|          NA|           NA|NA           |\n",
       "|character |site_name         |         0|     1.0000000|NA         |NA         |NA          |            NA|NA          |NA          |NA                  |               NA|             7|            19|               0|                 13|                    0|NA secs      |NA secs      |NA              |                NA|           NA|         NA|         NA|          NA|          NA|          NA|           NA|NA           |\n",
       "|character |site_type         |         0|     1.0000000|NA         |NA         |NA          |            NA|NA          |NA          |NA                  |               NA|            10|            24|               0|                  5|                    0|NA secs      |NA secs      |NA              |                NA|           NA|         NA|         NA|          NA|          NA|          NA|           NA|NA           |\n",
       "|character |contaminant       |         1|     0.9999996|NA         |NA         |NA          |            NA|NA          |NA          |NA                  |               NA|             2|             7|               0|                  8|                    0|NA secs      |NA secs      |NA              |                NA|           NA|         NA|         NA|          NA|          NA|          NA|           NA|NA           |\n",
       "|character |unit_of_measure   |         1|     0.9999996|NA         |NA         |NA          |            NA|NA          |NA          |NA                  |               NA|             2|             8|               0|                  3|                    0|NA secs      |NA secs      |NA              |                NA|           NA|         NA|         NA|          NA|          NA|          NA|           NA|NA           |\n",
       "|character |quality_code      |         1|     0.9999996|NA         |NA         |NA          |            NA|NA          |NA          |NA                  |               NA|             5|             5|               0|                  1|                    0|NA secs      |NA secs      |NA              |                NA|           NA|         NA|         NA|          NA|          NA|          NA|           NA|NA           |\n",
       "|character |collection_method |         1|     0.9999996|NA         |NA         |NA          |            NA|NA          |NA          |NA                  |               NA|            11|            24|               0|                  7|                    0|NA secs      |NA secs      |NA              |                NA|           NA|         NA|         NA|          NA|          NA|          NA|           NA|NA           |\n",
       "|character |monitoring_device |         1|     0.9999996|NA         |NA         |NA          |            NA|NA          |NA          |NA                  |               NA|             6|            17|               0|                 12|                    0|NA secs      |NA secs      |NA              |                NA|           NA|         NA|         NA|          NA|          NA|          NA|           NA|NA           |\n",
       "|character |weekday           |       268|     0.9998884|NA         |NA         |NA          |            NA|NA          |NA          |NA                  |               NA|             6|             9|               0|                  7|                    0|NA secs      |NA secs      |NA              |                NA|           NA|         NA|         NA|          NA|          NA|          NA|           NA|NA           |\n",
       "|difftime  |obs_time          |       268|     0.9998884|NA         |NA         |NA          |            NA|NA          |NA          |NA                  |               NA|            NA|            NA|              NA|                 NA|                   NA|0 secs       |82800 secs   |12:00:00        |                27|           NA|         NA|         NA|          NA|          NA|          NA|           NA|NA           |\n",
       "|numeric   |site_lat          |         0|     1.0000000|NA         |NA         |NA          |            NA|NA          |NA          |NA                  |               NA|            NA|            NA|              NA|                 NA|                   NA|NA secs      |NA secs      |NA              |                NA|    -43.88096|  0.4631314|  -44.73573| -44.3567350|  -43.557158|   -43.51126|    -43.30754|▁▃▂▁▇        |\n",
       "|numeric   |site_long         |         0|     1.0000000|NA         |NA         |NA          |            NA|NA          |NA          |NA                  |               NA|            NA|            NA|              NA|                 NA|                   NA|NA secs      |NA secs      |NA              |                NA|    171.98647|  0.6867400|  171.04984| 171.2423340|  172.595300|   172.63370|    172.68128|▆▁▁▁▇        |\n",
       "|numeric   |value             |         1|     0.9999996|NA         |NA         |NA          |            NA|NA          |NA          |NA                  |               NA|            NA|            NA|              NA|                 NA|                   NA|NA secs      |NA secs      |NA              |                NA|     10.05564| 14.7756416|  -13.40000|   0.6731667|    5.466493|    13.30000|    973.00000|▇▁▁▁▁        |"
      ]
     },
     "metadata": {},
     "output_type": "display_data"
    }
   ],
   "source": [
    "hourly_data <- \"ecan_hourly/full_hourly_data/full_hourly_data.csv\" %>%\n",
    "    read_csv()\n",
    "\n",
    "hourly_data %>%\n",
    "    skim() %>%\n",
    "    knitr::kable()"
   ]
  },
  {
   "cell_type": "code",
   "execution_count": 4,
   "metadata": {
    "vscode": {
     "languageId": "r"
    }
   },
   "outputs": [
    {
     "data": {
      "text/html": [
       "<table class=\"dataframe\">\n",
       "<caption>A tibble: 6 × 16</caption>\n",
       "<thead>\n",
       "\t<tr><th scope=col>council_name</th><th scope=col>airshed_name</th><th scope=col>site_name</th><th scope=col>site_type</th><th scope=col>site_lat</th><th scope=col>site_long</th><th scope=col>observation_date</th><th scope=col>contaminant</th><th scope=col>value</th><th scope=col>unit_of_measure</th><th scope=col>quality_code</th><th scope=col>collection_method</th><th scope=col>monitoring_device</th><th scope=col>obs_date</th><th scope=col>obs_time</th><th scope=col>weekday</th></tr>\n",
       "\t<tr><th scope=col>&lt;chr&gt;</th><th scope=col>&lt;chr&gt;</th><th scope=col>&lt;chr&gt;</th><th scope=col>&lt;chr&gt;</th><th scope=col>&lt;dbl&gt;</th><th scope=col>&lt;dbl&gt;</th><th scope=col>&lt;dttm&gt;</th><th scope=col>&lt;chr&gt;</th><th scope=col>&lt;dbl&gt;</th><th scope=col>&lt;chr&gt;</th><th scope=col>&lt;chr&gt;</th><th scope=col>&lt;chr&gt;</th><th scope=col>&lt;chr&gt;</th><th scope=col>&lt;date&gt;</th><th scope=col>&lt;time&gt;</th><th scope=col>&lt;chr&gt;</th></tr>\n",
       "</thead>\n",
       "<tbody>\n",
       "\t<tr><td>Environment Canterbury</td><td>Ashburton</td><td>Ashburton</td><td>Residential</td><td>-43.91224</td><td>171.7552</td><td>2013-10-01 00:00:00</td><td>CO</td><td>0.2338333</td><td>mg/m3(S)</td><td>QC500</td><td>AS 3580.7.1</td><td>CO_API</td><td>2013-10-01</td><td>00:00:00</td><td>Tuesday</td></tr>\n",
       "\t<tr><td>Environment Canterbury</td><td>Ashburton</td><td>Ashburton</td><td>Residential</td><td>-43.91224</td><td>171.7552</td><td>2013-10-01 01:00:00</td><td>CO</td><td>0.2493333</td><td>mg/m3(S)</td><td>QC500</td><td>AS 3580.7.1</td><td>CO_API</td><td>2013-10-01</td><td>01:00:00</td><td>Tuesday</td></tr>\n",
       "\t<tr><td>Environment Canterbury</td><td>Ashburton</td><td>Ashburton</td><td>Residential</td><td>-43.91224</td><td>171.7552</td><td>2013-10-01 02:00:00</td><td>CO</td><td>0.2476667</td><td>mg/m3(S)</td><td>QC500</td><td>AS 3580.7.1</td><td>CO_API</td><td>2013-10-01</td><td>02:00:00</td><td>Tuesday</td></tr>\n",
       "\t<tr><td>Environment Canterbury</td><td>Ashburton</td><td>Ashburton</td><td>Residential</td><td>-43.91224</td><td>171.7552</td><td>2013-10-01 03:00:00</td><td>CO</td><td>0.2683333</td><td>mg/m3(S)</td><td>QC500</td><td>AS 3580.7.1</td><td>CO_API</td><td>2013-10-01</td><td>03:00:00</td><td>Tuesday</td></tr>\n",
       "\t<tr><td>Environment Canterbury</td><td>Ashburton</td><td>Ashburton</td><td>Residential</td><td>-43.91224</td><td>171.7552</td><td>2013-10-01 04:00:00</td><td>CO</td><td>0.2483333</td><td>mg/m3(S)</td><td>QC500</td><td>AS 3580.7.1</td><td>CO_API</td><td>2013-10-01</td><td>04:00:00</td><td>Tuesday</td></tr>\n",
       "\t<tr><td>Environment Canterbury</td><td>Ashburton</td><td>Ashburton</td><td>Residential</td><td>-43.91224</td><td>171.7552</td><td>2013-10-01 05:00:00</td><td>CO</td><td>0.2676667</td><td>mg/m3(S)</td><td>QC500</td><td>AS 3580.7.1</td><td>CO_API</td><td>2013-10-01</td><td>05:00:00</td><td>Tuesday</td></tr>\n",
       "</tbody>\n",
       "</table>\n"
      ],
      "text/latex": [
       "A tibble: 6 × 16\n",
       "\\begin{tabular}{llllllllllllllll}\n",
       " council\\_name & airshed\\_name & site\\_name & site\\_type & site\\_lat & site\\_long & observation\\_date & contaminant & value & unit\\_of\\_measure & quality\\_code & collection\\_method & monitoring\\_device & obs\\_date & obs\\_time & weekday\\\\\n",
       " <chr> & <chr> & <chr> & <chr> & <dbl> & <dbl> & <dttm> & <chr> & <dbl> & <chr> & <chr> & <chr> & <chr> & <date> & <time> & <chr>\\\\\n",
       "\\hline\n",
       "\t Environment Canterbury & Ashburton & Ashburton & Residential & -43.91224 & 171.7552 & 2013-10-01 00:00:00 & CO & 0.2338333 & mg/m3(S) & QC500 & AS 3580.7.1 & CO\\_API & 2013-10-01 & 00:00:00 & Tuesday\\\\\n",
       "\t Environment Canterbury & Ashburton & Ashburton & Residential & -43.91224 & 171.7552 & 2013-10-01 01:00:00 & CO & 0.2493333 & mg/m3(S) & QC500 & AS 3580.7.1 & CO\\_API & 2013-10-01 & 01:00:00 & Tuesday\\\\\n",
       "\t Environment Canterbury & Ashburton & Ashburton & Residential & -43.91224 & 171.7552 & 2013-10-01 02:00:00 & CO & 0.2476667 & mg/m3(S) & QC500 & AS 3580.7.1 & CO\\_API & 2013-10-01 & 02:00:00 & Tuesday\\\\\n",
       "\t Environment Canterbury & Ashburton & Ashburton & Residential & -43.91224 & 171.7552 & 2013-10-01 03:00:00 & CO & 0.2683333 & mg/m3(S) & QC500 & AS 3580.7.1 & CO\\_API & 2013-10-01 & 03:00:00 & Tuesday\\\\\n",
       "\t Environment Canterbury & Ashburton & Ashburton & Residential & -43.91224 & 171.7552 & 2013-10-01 04:00:00 & CO & 0.2483333 & mg/m3(S) & QC500 & AS 3580.7.1 & CO\\_API & 2013-10-01 & 04:00:00 & Tuesday\\\\\n",
       "\t Environment Canterbury & Ashburton & Ashburton & Residential & -43.91224 & 171.7552 & 2013-10-01 05:00:00 & CO & 0.2676667 & mg/m3(S) & QC500 & AS 3580.7.1 & CO\\_API & 2013-10-01 & 05:00:00 & Tuesday\\\\\n",
       "\\end{tabular}\n"
      ],
      "text/markdown": [
       "\n",
       "A tibble: 6 × 16\n",
       "\n",
       "| council_name &lt;chr&gt; | airshed_name &lt;chr&gt; | site_name &lt;chr&gt; | site_type &lt;chr&gt; | site_lat &lt;dbl&gt; | site_long &lt;dbl&gt; | observation_date &lt;dttm&gt; | contaminant &lt;chr&gt; | value &lt;dbl&gt; | unit_of_measure &lt;chr&gt; | quality_code &lt;chr&gt; | collection_method &lt;chr&gt; | monitoring_device &lt;chr&gt; | obs_date &lt;date&gt; | obs_time &lt;time&gt; | weekday &lt;chr&gt; |\n",
       "|---|---|---|---|---|---|---|---|---|---|---|---|---|---|---|---|\n",
       "| Environment Canterbury | Ashburton | Ashburton | Residential | -43.91224 | 171.7552 | 2013-10-01 00:00:00 | CO | 0.2338333 | mg/m3(S) | QC500 | AS 3580.7.1 | CO_API | 2013-10-01 | 00:00:00 | Tuesday |\n",
       "| Environment Canterbury | Ashburton | Ashburton | Residential | -43.91224 | 171.7552 | 2013-10-01 01:00:00 | CO | 0.2493333 | mg/m3(S) | QC500 | AS 3580.7.1 | CO_API | 2013-10-01 | 01:00:00 | Tuesday |\n",
       "| Environment Canterbury | Ashburton | Ashburton | Residential | -43.91224 | 171.7552 | 2013-10-01 02:00:00 | CO | 0.2476667 | mg/m3(S) | QC500 | AS 3580.7.1 | CO_API | 2013-10-01 | 02:00:00 | Tuesday |\n",
       "| Environment Canterbury | Ashburton | Ashburton | Residential | -43.91224 | 171.7552 | 2013-10-01 03:00:00 | CO | 0.2683333 | mg/m3(S) | QC500 | AS 3580.7.1 | CO_API | 2013-10-01 | 03:00:00 | Tuesday |\n",
       "| Environment Canterbury | Ashburton | Ashburton | Residential | -43.91224 | 171.7552 | 2013-10-01 04:00:00 | CO | 0.2483333 | mg/m3(S) | QC500 | AS 3580.7.1 | CO_API | 2013-10-01 | 04:00:00 | Tuesday |\n",
       "| Environment Canterbury | Ashburton | Ashburton | Residential | -43.91224 | 171.7552 | 2013-10-01 05:00:00 | CO | 0.2676667 | mg/m3(S) | QC500 | AS 3580.7.1 | CO_API | 2013-10-01 | 05:00:00 | Tuesday |\n",
       "\n"
      ],
      "text/plain": [
       "  council_name           airshed_name site_name site_type   site_lat  site_long\n",
       "1 Environment Canterbury Ashburton    Ashburton Residential -43.91224 171.7552 \n",
       "2 Environment Canterbury Ashburton    Ashburton Residential -43.91224 171.7552 \n",
       "3 Environment Canterbury Ashburton    Ashburton Residential -43.91224 171.7552 \n",
       "4 Environment Canterbury Ashburton    Ashburton Residential -43.91224 171.7552 \n",
       "5 Environment Canterbury Ashburton    Ashburton Residential -43.91224 171.7552 \n",
       "6 Environment Canterbury Ashburton    Ashburton Residential -43.91224 171.7552 \n",
       "  observation_date    contaminant value     unit_of_measure quality_code\n",
       "1 2013-10-01 00:00:00 CO          0.2338333 mg/m3(S)        QC500       \n",
       "2 2013-10-01 01:00:00 CO          0.2493333 mg/m3(S)        QC500       \n",
       "3 2013-10-01 02:00:00 CO          0.2476667 mg/m3(S)        QC500       \n",
       "4 2013-10-01 03:00:00 CO          0.2683333 mg/m3(S)        QC500       \n",
       "5 2013-10-01 04:00:00 CO          0.2483333 mg/m3(S)        QC500       \n",
       "6 2013-10-01 05:00:00 CO          0.2676667 mg/m3(S)        QC500       \n",
       "  collection_method monitoring_device obs_date   obs_time weekday\n",
       "1 AS 3580.7.1       CO_API            2013-10-01 00:00:00 Tuesday\n",
       "2 AS 3580.7.1       CO_API            2013-10-01 01:00:00 Tuesday\n",
       "3 AS 3580.7.1       CO_API            2013-10-01 02:00:00 Tuesday\n",
       "4 AS 3580.7.1       CO_API            2013-10-01 03:00:00 Tuesday\n",
       "5 AS 3580.7.1       CO_API            2013-10-01 04:00:00 Tuesday\n",
       "6 AS 3580.7.1       CO_API            2013-10-01 05:00:00 Tuesday"
      ]
     },
     "metadata": {},
     "output_type": "display_data"
    }
   ],
   "source": [
    "hourly_data %>%\n",
    "    head()"
   ]
  },
  {
   "cell_type": "code",
   "execution_count": 5,
   "metadata": {
    "vscode": {
     "languageId": "r"
    }
   },
   "outputs": [
    {
     "name": "stderr",
     "output_type": "stream",
     "text": [
      "\u001b[1m\u001b[22m`summarise()` has grouped output by 'site_name', 'contaminant', 'obs_time'. You\n",
      "can override using the `.groups` argument.\n"
     ]
    }
   ],
   "source": [
    "hourly_location <- hourly_data %>%\n",
    "    group_by(site_name, contaminant, obs_time, obs_date) %>%\n",
    "    summarise(avg = mean(value))\n",
    "    "
   ]
  },
  {
   "cell_type": "code",
   "execution_count": 6,
   "metadata": {
    "vscode": {
     "languageId": "r"
    }
   },
   "outputs": [
    {
     "data": {
      "text/html": [
       "<table class=\"dataframe\">\n",
       "<caption>A tibble: 14 × 3</caption>\n",
       "<thead>\n",
       "\t<tr><th scope=col>site_name</th><th scope=col>site_lat</th><th scope=col>site_long</th></tr>\n",
       "\t<tr><th scope=col>&lt;chr&gt;</th><th scope=col>&lt;dbl&gt;</th><th scope=col>&lt;dbl&gt;</th></tr>\n",
       "</thead>\n",
       "<tbody>\n",
       "\t<tr><td>Ashburton          </td><td>-43.91224</td><td>171.7552</td></tr>\n",
       "\t<tr><td>Geraldine          </td><td>-44.10018</td><td>171.2415</td></tr>\n",
       "\t<tr><td>Kaiapoi            </td><td>-43.38464</td><td>172.6520</td></tr>\n",
       "\t<tr><td>Rangiora           </td><td>-43.30754</td><td>172.5953</td></tr>\n",
       "\t<tr><td>Riccarton Road     </td><td>-43.52975</td><td>172.5987</td></tr>\n",
       "\t<tr><td>St Albans          </td><td>-43.51126</td><td>172.6337</td></tr>\n",
       "\t<tr><td>St Albans EP       </td><td>-43.50857</td><td>172.6359</td></tr>\n",
       "\t<tr><td>St Albans EP       </td><td>-43.50857</td><td>172.6300</td></tr>\n",
       "\t<tr><td>Timaru Anzac Square</td><td>-44.40448</td><td>171.2497</td></tr>\n",
       "\t<tr><td>Waimate Kennedy    </td><td>-44.73261</td><td>171.0498</td></tr>\n",
       "\t<tr><td>Waimate Stadium    </td><td>-44.73573</td><td>171.0499</td></tr>\n",
       "\t<tr><td>Washdyke Alpine    </td><td>-44.35620</td><td>171.2423</td></tr>\n",
       "\t<tr><td>Washdyke Flat Road </td><td>-44.35674</td><td>171.2363</td></tr>\n",
       "\t<tr><td>Woolston           </td><td>-43.55716</td><td>172.6813</td></tr>\n",
       "</tbody>\n",
       "</table>\n"
      ],
      "text/latex": [
       "A tibble: 14 × 3\n",
       "\\begin{tabular}{lll}\n",
       " site\\_name & site\\_lat & site\\_long\\\\\n",
       " <chr> & <dbl> & <dbl>\\\\\n",
       "\\hline\n",
       "\t Ashburton           & -43.91224 & 171.7552\\\\\n",
       "\t Geraldine           & -44.10018 & 171.2415\\\\\n",
       "\t Kaiapoi             & -43.38464 & 172.6520\\\\\n",
       "\t Rangiora            & -43.30754 & 172.5953\\\\\n",
       "\t Riccarton Road      & -43.52975 & 172.5987\\\\\n",
       "\t St Albans           & -43.51126 & 172.6337\\\\\n",
       "\t St Albans EP        & -43.50857 & 172.6359\\\\\n",
       "\t St Albans EP        & -43.50857 & 172.6300\\\\\n",
       "\t Timaru Anzac Square & -44.40448 & 171.2497\\\\\n",
       "\t Waimate Kennedy     & -44.73261 & 171.0498\\\\\n",
       "\t Waimate Stadium     & -44.73573 & 171.0499\\\\\n",
       "\t Washdyke Alpine     & -44.35620 & 171.2423\\\\\n",
       "\t Washdyke Flat Road  & -44.35674 & 171.2363\\\\\n",
       "\t Woolston            & -43.55716 & 172.6813\\\\\n",
       "\\end{tabular}\n"
      ],
      "text/markdown": [
       "\n",
       "A tibble: 14 × 3\n",
       "\n",
       "| site_name &lt;chr&gt; | site_lat &lt;dbl&gt; | site_long &lt;dbl&gt; |\n",
       "|---|---|---|\n",
       "| Ashburton           | -43.91224 | 171.7552 |\n",
       "| Geraldine           | -44.10018 | 171.2415 |\n",
       "| Kaiapoi             | -43.38464 | 172.6520 |\n",
       "| Rangiora            | -43.30754 | 172.5953 |\n",
       "| Riccarton Road      | -43.52975 | 172.5987 |\n",
       "| St Albans           | -43.51126 | 172.6337 |\n",
       "| St Albans EP        | -43.50857 | 172.6359 |\n",
       "| St Albans EP        | -43.50857 | 172.6300 |\n",
       "| Timaru Anzac Square | -44.40448 | 171.2497 |\n",
       "| Waimate Kennedy     | -44.73261 | 171.0498 |\n",
       "| Waimate Stadium     | -44.73573 | 171.0499 |\n",
       "| Washdyke Alpine     | -44.35620 | 171.2423 |\n",
       "| Washdyke Flat Road  | -44.35674 | 171.2363 |\n",
       "| Woolston            | -43.55716 | 172.6813 |\n",
       "\n"
      ],
      "text/plain": [
       "   site_name           site_lat  site_long\n",
       "1  Ashburton           -43.91224 171.7552 \n",
       "2  Geraldine           -44.10018 171.2415 \n",
       "3  Kaiapoi             -43.38464 172.6520 \n",
       "4  Rangiora            -43.30754 172.5953 \n",
       "5  Riccarton Road      -43.52975 172.5987 \n",
       "6  St Albans           -43.51126 172.6337 \n",
       "7  St Albans EP        -43.50857 172.6359 \n",
       "8  St Albans EP        -43.50857 172.6300 \n",
       "9  Timaru Anzac Square -44.40448 171.2497 \n",
       "10 Waimate Kennedy     -44.73261 171.0498 \n",
       "11 Waimate Stadium     -44.73573 171.0499 \n",
       "12 Washdyke Alpine     -44.35620 171.2423 \n",
       "13 Washdyke Flat Road  -44.35674 171.2363 \n",
       "14 Woolston            -43.55716 172.6813 "
      ]
     },
     "metadata": {},
     "output_type": "display_data"
    }
   ],
   "source": [
    "hourly_data %>%\n",
    "    distinct(site_name,site_lat, site_long)"
   ]
  },
  {
   "cell_type": "code",
   "execution_count": 7,
   "metadata": {
    "vscode": {
     "languageId": "r"
    }
   },
   "outputs": [
    {
     "name": "stderr",
     "output_type": "stream",
     "text": [
      "\u001b[1m\u001b[22m`geom_smooth()` using method = 'gam' and formula = 'y ~ s(x, bs = \"cs\")'\n",
      "Warning message:\n",
      "\"\u001b[1m\u001b[22mRemoved 12 rows containing non-finite values (`stat_smooth()`).\"\n"
     ]
    },
    {
     "data": {
      "image/png": "[encoded data removed]",
      "text/plain": [
       "plot without title"
      ]
     },
     "metadata": {
      "image/png": {
       "height": 420,
       "width": 420
      }
     },
     "output_type": "display_data"
    }
   ],
   "source": [
    "hourly_location %>% \n",
    "    filter(contaminant == \"CO\") %>%\n",
    "    ggplot(aes(x = obs_time, y = avg)) + \n",
    "    geom_smooth(aes(color=site_name))"
   ]
  },
  {
   "cell_type": "code",
   "execution_count": 43,
   "metadata": {
    "vscode": {
     "languageId": "r"
    }
   },
   "outputs": [
    {
     "name": "stderr",
     "output_type": "stream",
     "text": [
      "\u001b[1mRows: \u001b[22m\u001b[34m24\u001b[39m \u001b[1mColumns: \u001b[22m\u001b[34m11\u001b[39m\n",
      "\u001b[36m──\u001b[39m \u001b[1mColumn specification\u001b[22m \u001b[36m────────────────────────────────────────────────────────\u001b[39m\n",
      "\u001b[1mDelimiter:\u001b[22m \",\"\n",
      "\u001b[32mdbl\u001b[39m  (10): Mon, Tue, Wed, Thu, Fri, Sat, Sun, Weekday, Weekend, All Days\n",
      "\u001b[34mtime\u001b[39m  (1): Hour\n",
      "\n",
      "\u001b[36mℹ\u001b[39m Use `spec()` to retrieve the full column specification for this data.\n",
      "\u001b[36mℹ\u001b[39m Specify the column types or set `show_col_types = FALSE` to quiet this message.\n"
     ]
    },
    {
     "data": {
      "text/plain": [
       "\n",
       "\n",
       "|skim_type |skim_variable | n_missing| complete_rate|difftime.min |difftime.max |difftime.median | difftime.n_unique| numeric.mean| numeric.sd| numeric.p0| numeric.p25| numeric.p50| numeric.p75| numeric.p100|numeric.hist |\n",
       "|:---------|:-------------|---------:|-------------:|:------------|:------------|:---------------|-----------------:|------------:|----------:|----------:|-----------:|-----------:|-----------:|------------:|:------------|\n",
       "|difftime  |Hour          |         0|             1|0 secs       |82800 secs   |41400 secs      |                24|           NA|         NA|         NA|          NA|          NA|          NA|           NA|NA           |\n",
       "|numeric   |Mon           |         0|             1|NA secs      |NA secs      |NA secs         |                NA|     709.1250|   465.3794|         36|      214.25|       861.0|     1133.50|         1231|▆▂▂▂▇        |\n",
       "|numeric   |Tue           |         0|             1|NA secs      |NA secs      |NA secs         |                NA|     746.6667|   474.2253|         31|      217.50|       912.5|     1172.25|         1268|▆▂▁▃▇        |\n",
       "|numeric   |Wed           |         0|             1|NA secs      |NA secs      |NA secs         |                NA|     758.0000|   466.2131|         36|      283.50|       978.0|     1172.00|         1252|▃▂▁▁▇        |\n",
       "|numeric   |Thu           |         0|             1|NA secs      |NA secs      |NA secs         |                NA|     773.8333|   463.8848|         64|      257.50|       977.0|     1185.25|         1260|▅▁▁▂▇        |\n",
       "|numeric   |Fri           |         0|             1|NA secs      |NA secs      |NA secs         |                NA|     786.0000|   460.0362|         47|      360.00|      1040.5|     1173.50|         1215|▃▁▁▁▇        |\n",
       "|numeric   |Sat           |         0|             1|NA secs      |NA secs      |NA secs         |                NA|     749.4167|   464.6628|         67|      286.75|       874.5|     1182.75|         1263|▅▂▂▂▇        |\n",
       "|numeric   |Sun           |         0|             1|NA secs      |NA secs      |NA secs         |                NA|     648.0000|   431.6401|         94|      235.50|       637.0|     1108.00|         1262|▇▃▃▁▇        |\n",
       "|numeric   |Weekday       |         0|             1|NA secs      |NA secs      |NA secs         |                NA|     754.6667|   463.0527|         52|      265.00|       947.5|     1173.50|         1229|▃▂▁▁▇        |\n",
       "|numeric   |Weekend       |         0|             1|NA secs      |NA secs      |NA secs         |                NA|     699.0000|   443.6871|         81|      277.50|       756.0|     1158.50|         1248|▆▃▁▂▇        |\n",
       "|numeric   |All Days      |         0|             1|NA secs      |NA secs      |NA secs         |                NA|     738.7083|   449.6359|         71|      285.00|       900.5|     1171.00|         1219|▅▂▂▂▇        |"
      ]
     },
     "metadata": {},
     "output_type": "display_data"
    }
   ],
   "source": [
    "traffic_data <- \"Traffic/L5473 SP-2020-09-17T00_00_00-189.csv\" %>%\n",
    "    read_csv()\n",
    "\n",
    "traffic_data %>%\n",
    "    skim() %>%\n",
    "    knitr::kable()"
   ]
  },
  {
   "cell_type": "code",
   "execution_count": 50,
   "metadata": {
    "vscode": {
     "languageId": "r"
    }
   },
   "outputs": [
    {
     "name": "stderr",
     "output_type": "stream",
     "text": [
      "\u001b[1mRows: \u001b[22m\u001b[34m24\u001b[39m \u001b[1mColumns: \u001b[22m\u001b[34m11\u001b[39m\n"
     ]
    },
    {
     "name": "stderr",
     "output_type": "stream",
     "text": [
      "\u001b[36m──\u001b[39m \u001b[1mColumn specification\u001b[22m \u001b[36m────────────────────────────────────────────────────────\u001b[39m\n",
      "\u001b[1mDelimiter:\u001b[22m \",\"\n",
      "\u001b[32mdbl\u001b[39m  (10): Mon, Tue, Wed, Thu, Fri, Sat, Sun, Weekday, Weekend, All Days\n",
      "\u001b[34mtime\u001b[39m  (1): Hour\n",
      "\n",
      "\u001b[36mℹ\u001b[39m Use `spec()` to retrieve the full column specification for this data.\n",
      "\u001b[36mℹ\u001b[39m Specify the column types or set `show_col_types = FALSE` to quiet this message.\n",
      "\u001b[1m\u001b[22m`geom_smooth()` using method = 'loess' and formula = 'y ~ x'\n"
     ]
    },
    {
     "data": {
      "image/png": "[encoded data removed]",
      "text/plain": [
       "plot without title"
      ]
     },
     "metadata": {
      "image/png": {
       "height": 420,
       "width": 420
      }
     },
     "output_type": "display_data"
    }
   ],
   "source": [
    "traffic_data <- \"Traffic/L5473 SP-2020-09-17T00_00_00-189.csv\" %>%\n",
    "    read_csv()\n",
    "\n",
    "traffic_data %<>%\n",
    "    select(Hour:Sun) %>%\n",
    "    gather(key='weekday',value='car', Mon, Tue, Wed, Thu, Fri, Sat, Sun)\n",
    "\n",
    "traffic_data %>%\n",
    "    ggplot(aes(x=Hour, y=car)) +\n",
    "    geom_smooth()"
   ]
  },
  {
   "cell_type": "markdown",
   "metadata": {},
   "source": [
    "L0091"
   ]
  }
 ],
 "metadata": {
  "kernelspec": {
   "display_name": "R",
   "language": "R",
   "name": "ir"
  },
  "language_info": {
   "codemirror_mode": "r",
   "file_extension": ".r",
   "mimetype": "text/x-r-source",
   "name": "R",
   "pygments_lexer": "r",
   "version": "4.3.1"
  },
  "orig_nbformat": 4
 },
 "nbformat": 4,
 "nbformat_minor": 2
}
