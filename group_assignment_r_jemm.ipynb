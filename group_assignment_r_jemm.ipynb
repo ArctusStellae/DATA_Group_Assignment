{
 "cells": [
  {
   "cell_type": "markdown",
   "metadata": {},
   "source": [
    "Load!"
   ]
  },
  {
   "cell_type": "code",
   "execution_count": 2,
   "metadata": {
    "vscode": {
     "languageId": "r"
    }
   },
   "outputs": [
    {
     "name": "stderr",
     "output_type": "stream",
     "text": [
      "── \u001b[1mAttaching core tidyverse packages\u001b[22m ──────────────────────── tidyverse 2.0.0 ──\n",
      "\u001b[32m✔\u001b[39m \u001b[34mdplyr    \u001b[39m 1.1.2     \u001b[32m✔\u001b[39m \u001b[34mreadr    \u001b[39m 2.1.4\n",
      "\u001b[32m✔\u001b[39m \u001b[34mforcats  \u001b[39m 1.0.0     \u001b[32m✔\u001b[39m \u001b[34mstringr  \u001b[39m 1.5.0\n",
      "\u001b[32m✔\u001b[39m \u001b[34mggplot2  \u001b[39m 3.4.2     \u001b[32m✔\u001b[39m \u001b[34mtibble   \u001b[39m 3.2.1\n",
      "\u001b[32m✔\u001b[39m \u001b[34mlubridate\u001b[39m 1.9.2     \u001b[32m✔\u001b[39m \u001b[34mtidyr    \u001b[39m 1.3.0\n",
      "\u001b[32m✔\u001b[39m \u001b[34mpurrr    \u001b[39m 1.0.1     \n",
      "── \u001b[1mConflicts\u001b[22m ────────────────────────────────────────── tidyverse_conflicts() ──\n",
      "\u001b[31m✖\u001b[39m \u001b[34mdplyr\u001b[39m::\u001b[32mfilter()\u001b[39m masks \u001b[34mstats\u001b[39m::filter()\n",
      "\u001b[31m✖\u001b[39m \u001b[34mdplyr\u001b[39m::\u001b[32mlag()\u001b[39m    masks \u001b[34mstats\u001b[39m::lag()\n",
      "\u001b[36mℹ\u001b[39m Use the conflicted package (\u001b[3m\u001b[34m<http://conflicted.r-lib.org/>\u001b[39m\u001b[23m) to force all conflicts to become errors\n",
      "\n",
      "Attaching package: 'magrittr'\n",
      "\n",
      "\n",
      "The following object is masked from 'package:purrr':\n",
      "\n",
      "    set_names\n",
      "\n",
      "\n",
      "The following object is masked from 'package:tidyr':\n",
      "\n",
      "    extract\n",
      "\n",
      "\n"
     ]
    }
   ],
   "source": [
    "library(tidyverse);\n",
    "library(magrittr); # better handling of pipes\n",
    "library(skimr);\n",
    "library(knitr);"
   ]
  },
  {
   "cell_type": "code",
   "execution_count": 3,
   "metadata": {
    "vscode": {
     "languageId": "r"
    }
   },
   "outputs": [
    {
     "name": "stderr",
     "output_type": "stream",
     "text": [
      "\u001b[1mRows: \u001b[22m\u001b[34m2402339\u001b[39m \u001b[1mColumns: \u001b[22m\u001b[34m16\u001b[39m\n",
      "\u001b[36m──\u001b[39m \u001b[1mColumn specification\u001b[22m \u001b[36m────────────────────────────────────────────────────────\u001b[39m\n",
      "\u001b[1mDelimiter:\u001b[22m \",\"\n",
      "\u001b[31mchr\u001b[39m  (10): council_name, airshed_name, site_name, site_type, contaminant, un...\n",
      "\u001b[32mdbl\u001b[39m   (3): site_lat, site_long, value\n",
      "\u001b[34mdttm\u001b[39m  (1): observation_date\n",
      "\u001b[34mdate\u001b[39m  (1): obs_date\n",
      "\u001b[34mtime\u001b[39m  (1): obs_time\n",
      "\n",
      "\u001b[36mℹ\u001b[39m Use `spec()` to retrieve the full column specification for this data.\n",
      "\u001b[36mℹ\u001b[39m Specify the column types or set `show_col_types = FALSE` to quiet this message.\n"
     ]
    },
    {
     "data": {
      "text/plain": [
       "\n",
       "\n",
       "|skim_type |skim_variable     | n_missing| complete_rate|Date.min   |Date.max   |Date.median | Date.n_unique|POSIXct.min |POSIXct.max |POSIXct.median      | POSIXct.n_unique| character.min| character.max| character.empty| character.n_unique| character.whitespace|difftime.min |difftime.max |difftime.median | difftime.n_unique| numeric.mean| numeric.sd| numeric.p0| numeric.p25| numeric.p50| numeric.p75| numeric.p100|numeric.hist |\n",
       "|:---------|:-----------------|---------:|-------------:|:----------|:----------|:-----------|-------------:|:-----------|:-----------|:-------------------|----------------:|-------------:|-------------:|---------------:|------------------:|--------------------:|:------------|:------------|:---------------|-----------------:|------------:|----------:|----------:|-----------:|-----------:|-----------:|------------:|:------------|\n",
       "|Date      |obs_date          |       268|     0.9998884|2013-10-01 |2023-10-01 |2018-05-07  |          3653|NA          |NA          |NA                  |               NA|            NA|            NA|              NA|                 NA|                   NA|NA secs      |NA secs      |NA              |                NA|           NA|         NA|         NA|          NA|          NA|          NA|           NA|NA           |\n",
       "|POSIXct   |observation_date  |       268|     0.9998884|NA         |NA         |NA          |            NA|2013-10-01  |2023-10-01  |2018-05-07 04:00:00 |            87640|            NA|            NA|              NA|                 NA|                   NA|NA secs      |NA secs      |NA              |                NA|           NA|         NA|         NA|          NA|          NA|          NA|           NA|NA           |\n",
       "|character |council_name      |         0|     1.0000000|NA         |NA         |NA          |            NA|NA          |NA          |NA                  |               NA|            22|            22|               0|                  1|                    0|NA secs      |NA secs      |NA              |                NA|           NA|         NA|         NA|          NA|          NA|          NA|           NA|NA           |\n",
       "|character |airshed_name      |         0|     1.0000000|NA         |NA         |NA          |            NA|NA          |NA          |NA                  |               NA|             6|            12|               0|                  8|                    0|NA secs      |NA secs      |NA              |                NA|           NA|         NA|         NA|          NA|          NA|          NA|           NA|NA           |\n",
       "|character |site_name         |         0|     1.0000000|NA         |NA         |NA          |            NA|NA          |NA          |NA                  |               NA|             7|            19|               0|                 13|                    0|NA secs      |NA secs      |NA              |                NA|           NA|         NA|         NA|          NA|          NA|          NA|           NA|NA           |\n",
       "|character |site_type         |         0|     1.0000000|NA         |NA         |NA          |            NA|NA          |NA          |NA                  |               NA|            10|            24|               0|                  5|                    0|NA secs      |NA secs      |NA              |                NA|           NA|         NA|         NA|          NA|          NA|          NA|           NA|NA           |\n",
       "|character |contaminant       |         1|     0.9999996|NA         |NA         |NA          |            NA|NA          |NA          |NA                  |               NA|             2|             7|               0|                  8|                    0|NA secs      |NA secs      |NA              |                NA|           NA|         NA|         NA|          NA|          NA|          NA|           NA|NA           |\n",
       "|character |unit_of_measure   |         1|     0.9999996|NA         |NA         |NA          |            NA|NA          |NA          |NA                  |               NA|             2|             8|               0|                  3|                    0|NA secs      |NA secs      |NA              |                NA|           NA|         NA|         NA|          NA|          NA|          NA|           NA|NA           |\n",
       "|character |quality_code      |         1|     0.9999996|NA         |NA         |NA          |            NA|NA          |NA          |NA                  |               NA|             5|             5|               0|                  1|                    0|NA secs      |NA secs      |NA              |                NA|           NA|         NA|         NA|          NA|          NA|          NA|           NA|NA           |\n",
       "|character |collection_method |         1|     0.9999996|NA         |NA         |NA          |            NA|NA          |NA          |NA                  |               NA|            11|            24|               0|                  7|                    0|NA secs      |NA secs      |NA              |                NA|           NA|         NA|         NA|          NA|          NA|          NA|           NA|NA           |\n",
       "|character |monitoring_device |         1|     0.9999996|NA         |NA         |NA          |            NA|NA          |NA          |NA                  |               NA|             6|            17|               0|                 12|                    0|NA secs      |NA secs      |NA              |                NA|           NA|         NA|         NA|          NA|          NA|          NA|           NA|NA           |\n",
       "|character |weekday           |       268|     0.9998884|NA         |NA         |NA          |            NA|NA          |NA          |NA                  |               NA|             6|             9|               0|                  7|                    0|NA secs      |NA secs      |NA              |                NA|           NA|         NA|         NA|          NA|          NA|          NA|           NA|NA           |\n",
       "|difftime  |obs_time          |       268|     0.9998884|NA         |NA         |NA          |            NA|NA          |NA          |NA                  |               NA|            NA|            NA|              NA|                 NA|                   NA|0 secs       |82800 secs   |12:00:00        |                27|           NA|         NA|         NA|          NA|          NA|          NA|           NA|NA           |\n",
       "|numeric   |site_lat          |         0|     1.0000000|NA         |NA         |NA          |            NA|NA          |NA          |NA                  |               NA|            NA|            NA|              NA|                 NA|                   NA|NA secs      |NA secs      |NA              |                NA|    -43.88096|  0.4631314|  -44.73573| -44.3567350|  -43.557158|   -43.51126|    -43.30754|▁▃▂▁▇        |\n",
       "|numeric   |site_long         |         0|     1.0000000|NA         |NA         |NA          |            NA|NA          |NA          |NA                  |               NA|            NA|            NA|              NA|                 NA|                   NA|NA secs      |NA secs      |NA              |                NA|    171.98647|  0.6867400|  171.04984| 171.2423340|  172.595300|   172.63370|    172.68128|▆▁▁▁▇        |\n",
       "|numeric   |value             |         1|     0.9999996|NA         |NA         |NA          |            NA|NA          |NA          |NA                  |               NA|            NA|            NA|              NA|                 NA|                   NA|NA secs      |NA secs      |NA              |                NA|     10.05564| 14.7756416|  -13.40000|   0.6731667|    5.466493|    13.30000|    973.00000|▇▁▁▁▁        |"
      ]
     },
     "metadata": {},
     "output_type": "display_data"
    }
   ],
   "source": [
    "hourly_data <- \"ecan_hourly/full_hourly_data/full_hourly_data.csv\" %>%\n",
    "    read_csv()\n",
    "\n",
    "hourly_data %>%\n",
    "    skim() %>%\n",
    "    knitr::kable()"
   ]
  },
  {
   "cell_type": "code",
   "execution_count": 4,
   "metadata": {
    "vscode": {
     "languageId": "r"
    }
   },
   "outputs": [
    {
     "data": {
      "text/html": [
       "<table class=\"dataframe\">\n",
       "<caption>A tibble: 6 × 16</caption>\n",
       "<thead>\n",
       "\t<tr><th scope=col>council_name</th><th scope=col>airshed_name</th><th scope=col>site_name</th><th scope=col>site_type</th><th scope=col>site_lat</th><th scope=col>site_long</th><th scope=col>observation_date</th><th scope=col>contaminant</th><th scope=col>value</th><th scope=col>unit_of_measure</th><th scope=col>quality_code</th><th scope=col>collection_method</th><th scope=col>monitoring_device</th><th scope=col>obs_date</th><th scope=col>obs_time</th><th scope=col>weekday</th></tr>\n",
       "\t<tr><th scope=col>&lt;chr&gt;</th><th scope=col>&lt;chr&gt;</th><th scope=col>&lt;chr&gt;</th><th scope=col>&lt;chr&gt;</th><th scope=col>&lt;dbl&gt;</th><th scope=col>&lt;dbl&gt;</th><th scope=col>&lt;dttm&gt;</th><th scope=col>&lt;chr&gt;</th><th scope=col>&lt;dbl&gt;</th><th scope=col>&lt;chr&gt;</th><th scope=col>&lt;chr&gt;</th><th scope=col>&lt;chr&gt;</th><th scope=col>&lt;chr&gt;</th><th scope=col>&lt;date&gt;</th><th scope=col>&lt;time&gt;</th><th scope=col>&lt;chr&gt;</th></tr>\n",
       "</thead>\n",
       "<tbody>\n",
       "\t<tr><td>Environment Canterbury</td><td>Ashburton</td><td>Ashburton</td><td>Residential</td><td>-43.91224</td><td>171.7552</td><td>2013-10-01 00:00:00</td><td>CO</td><td>0.2338333</td><td>mg/m3(S)</td><td>QC500</td><td>AS 3580.7.1</td><td>CO_API</td><td>2013-10-01</td><td>00:00:00</td><td>Tuesday</td></tr>\n",
       "\t<tr><td>Environment Canterbury</td><td>Ashburton</td><td>Ashburton</td><td>Residential</td><td>-43.91224</td><td>171.7552</td><td>2013-10-01 01:00:00</td><td>CO</td><td>0.2493333</td><td>mg/m3(S)</td><td>QC500</td><td>AS 3580.7.1</td><td>CO_API</td><td>2013-10-01</td><td>01:00:00</td><td>Tuesday</td></tr>\n",
       "\t<tr><td>Environment Canterbury</td><td>Ashburton</td><td>Ashburton</td><td>Residential</td><td>-43.91224</td><td>171.7552</td><td>2013-10-01 02:00:00</td><td>CO</td><td>0.2476667</td><td>mg/m3(S)</td><td>QC500</td><td>AS 3580.7.1</td><td>CO_API</td><td>2013-10-01</td><td>02:00:00</td><td>Tuesday</td></tr>\n",
       "\t<tr><td>Environment Canterbury</td><td>Ashburton</td><td>Ashburton</td><td>Residential</td><td>-43.91224</td><td>171.7552</td><td>2013-10-01 03:00:00</td><td>CO</td><td>0.2683333</td><td>mg/m3(S)</td><td>QC500</td><td>AS 3580.7.1</td><td>CO_API</td><td>2013-10-01</td><td>03:00:00</td><td>Tuesday</td></tr>\n",
       "\t<tr><td>Environment Canterbury</td><td>Ashburton</td><td>Ashburton</td><td>Residential</td><td>-43.91224</td><td>171.7552</td><td>2013-10-01 04:00:00</td><td>CO</td><td>0.2483333</td><td>mg/m3(S)</td><td>QC500</td><td>AS 3580.7.1</td><td>CO_API</td><td>2013-10-01</td><td>04:00:00</td><td>Tuesday</td></tr>\n",
       "\t<tr><td>Environment Canterbury</td><td>Ashburton</td><td>Ashburton</td><td>Residential</td><td>-43.91224</td><td>171.7552</td><td>2013-10-01 05:00:00</td><td>CO</td><td>0.2676667</td><td>mg/m3(S)</td><td>QC500</td><td>AS 3580.7.1</td><td>CO_API</td><td>2013-10-01</td><td>05:00:00</td><td>Tuesday</td></tr>\n",
       "</tbody>\n",
       "</table>\n"
      ],
      "text/latex": [
       "A tibble: 6 × 16\n",
       "\\begin{tabular}{llllllllllllllll}\n",
       " council\\_name & airshed\\_name & site\\_name & site\\_type & site\\_lat & site\\_long & observation\\_date & contaminant & value & unit\\_of\\_measure & quality\\_code & collection\\_method & monitoring\\_device & obs\\_date & obs\\_time & weekday\\\\\n",
       " <chr> & <chr> & <chr> & <chr> & <dbl> & <dbl> & <dttm> & <chr> & <dbl> & <chr> & <chr> & <chr> & <chr> & <date> & <time> & <chr>\\\\\n",
       "\\hline\n",
       "\t Environment Canterbury & Ashburton & Ashburton & Residential & -43.91224 & 171.7552 & 2013-10-01 00:00:00 & CO & 0.2338333 & mg/m3(S) & QC500 & AS 3580.7.1 & CO\\_API & 2013-10-01 & 00:00:00 & Tuesday\\\\\n",
       "\t Environment Canterbury & Ashburton & Ashburton & Residential & -43.91224 & 171.7552 & 2013-10-01 01:00:00 & CO & 0.2493333 & mg/m3(S) & QC500 & AS 3580.7.1 & CO\\_API & 2013-10-01 & 01:00:00 & Tuesday\\\\\n",
       "\t Environment Canterbury & Ashburton & Ashburton & Residential & -43.91224 & 171.7552 & 2013-10-01 02:00:00 & CO & 0.2476667 & mg/m3(S) & QC500 & AS 3580.7.1 & CO\\_API & 2013-10-01 & 02:00:00 & Tuesday\\\\\n",
       "\t Environment Canterbury & Ashburton & Ashburton & Residential & -43.91224 & 171.7552 & 2013-10-01 03:00:00 & CO & 0.2683333 & mg/m3(S) & QC500 & AS 3580.7.1 & CO\\_API & 2013-10-01 & 03:00:00 & Tuesday\\\\\n",
       "\t Environment Canterbury & Ashburton & Ashburton & Residential & -43.91224 & 171.7552 & 2013-10-01 04:00:00 & CO & 0.2483333 & mg/m3(S) & QC500 & AS 3580.7.1 & CO\\_API & 2013-10-01 & 04:00:00 & Tuesday\\\\\n",
       "\t Environment Canterbury & Ashburton & Ashburton & Residential & -43.91224 & 171.7552 & 2013-10-01 05:00:00 & CO & 0.2676667 & mg/m3(S) & QC500 & AS 3580.7.1 & CO\\_API & 2013-10-01 & 05:00:00 & Tuesday\\\\\n",
       "\\end{tabular}\n"
      ],
      "text/markdown": [
       "\n",
       "A tibble: 6 × 16\n",
       "\n",
       "| council_name &lt;chr&gt; | airshed_name &lt;chr&gt; | site_name &lt;chr&gt; | site_type &lt;chr&gt; | site_lat &lt;dbl&gt; | site_long &lt;dbl&gt; | observation_date &lt;dttm&gt; | contaminant &lt;chr&gt; | value &lt;dbl&gt; | unit_of_measure &lt;chr&gt; | quality_code &lt;chr&gt; | collection_method &lt;chr&gt; | monitoring_device &lt;chr&gt; | obs_date &lt;date&gt; | obs_time &lt;time&gt; | weekday &lt;chr&gt; |\n",
       "|---|---|---|---|---|---|---|---|---|---|---|---|---|---|---|---|\n",
       "| Environment Canterbury | Ashburton | Ashburton | Residential | -43.91224 | 171.7552 | 2013-10-01 00:00:00 | CO | 0.2338333 | mg/m3(S) | QC500 | AS 3580.7.1 | CO_API | 2013-10-01 | 00:00:00 | Tuesday |\n",
       "| Environment Canterbury | Ashburton | Ashburton | Residential | -43.91224 | 171.7552 | 2013-10-01 01:00:00 | CO | 0.2493333 | mg/m3(S) | QC500 | AS 3580.7.1 | CO_API | 2013-10-01 | 01:00:00 | Tuesday |\n",
       "| Environment Canterbury | Ashburton | Ashburton | Residential | -43.91224 | 171.7552 | 2013-10-01 02:00:00 | CO | 0.2476667 | mg/m3(S) | QC500 | AS 3580.7.1 | CO_API | 2013-10-01 | 02:00:00 | Tuesday |\n",
       "| Environment Canterbury | Ashburton | Ashburton | Residential | -43.91224 | 171.7552 | 2013-10-01 03:00:00 | CO | 0.2683333 | mg/m3(S) | QC500 | AS 3580.7.1 | CO_API | 2013-10-01 | 03:00:00 | Tuesday |\n",
       "| Environment Canterbury | Ashburton | Ashburton | Residential | -43.91224 | 171.7552 | 2013-10-01 04:00:00 | CO | 0.2483333 | mg/m3(S) | QC500 | AS 3580.7.1 | CO_API | 2013-10-01 | 04:00:00 | Tuesday |\n",
       "| Environment Canterbury | Ashburton | Ashburton | Residential | -43.91224 | 171.7552 | 2013-10-01 05:00:00 | CO | 0.2676667 | mg/m3(S) | QC500 | AS 3580.7.1 | CO_API | 2013-10-01 | 05:00:00 | Tuesday |\n",
       "\n"
      ],
      "text/plain": [
       "  council_name           airshed_name site_name site_type   site_lat  site_long\n",
       "1 Environment Canterbury Ashburton    Ashburton Residential -43.91224 171.7552 \n",
       "2 Environment Canterbury Ashburton    Ashburton Residential -43.91224 171.7552 \n",
       "3 Environment Canterbury Ashburton    Ashburton Residential -43.91224 171.7552 \n",
       "4 Environment Canterbury Ashburton    Ashburton Residential -43.91224 171.7552 \n",
       "5 Environment Canterbury Ashburton    Ashburton Residential -43.91224 171.7552 \n",
       "6 Environment Canterbury Ashburton    Ashburton Residential -43.91224 171.7552 \n",
       "  observation_date    contaminant value     unit_of_measure quality_code\n",
       "1 2013-10-01 00:00:00 CO          0.2338333 mg/m3(S)        QC500       \n",
       "2 2013-10-01 01:00:00 CO          0.2493333 mg/m3(S)        QC500       \n",
       "3 2013-10-01 02:00:00 CO          0.2476667 mg/m3(S)        QC500       \n",
       "4 2013-10-01 03:00:00 CO          0.2683333 mg/m3(S)        QC500       \n",
       "5 2013-10-01 04:00:00 CO          0.2483333 mg/m3(S)        QC500       \n",
       "6 2013-10-01 05:00:00 CO          0.2676667 mg/m3(S)        QC500       \n",
       "  collection_method monitoring_device obs_date   obs_time weekday\n",
       "1 AS 3580.7.1       CO_API            2013-10-01 00:00:00 Tuesday\n",
       "2 AS 3580.7.1       CO_API            2013-10-01 01:00:00 Tuesday\n",
       "3 AS 3580.7.1       CO_API            2013-10-01 02:00:00 Tuesday\n",
       "4 AS 3580.7.1       CO_API            2013-10-01 03:00:00 Tuesday\n",
       "5 AS 3580.7.1       CO_API            2013-10-01 04:00:00 Tuesday\n",
       "6 AS 3580.7.1       CO_API            2013-10-01 05:00:00 Tuesday"
      ]
     },
     "metadata": {},
     "output_type": "display_data"
    }
   ],
   "source": [
    "hourly_data %>%\n",
    "    head()"
   ]
  },
  {
   "cell_type": "code",
   "execution_count": 5,
   "metadata": {
    "vscode": {
     "languageId": "r"
    }
   },
   "outputs": [
    {
     "name": "stderr",
     "output_type": "stream",
     "text": [
      "\u001b[1m\u001b[22m`summarise()` has grouped output by 'site_name', 'contaminant', 'obs_time'. You\n",
      "can override using the `.groups` argument.\n"
     ]
    }
   ],
   "source": [
    "hourly_location <- hourly_data %>%\n",
    "    group_by(site_name, contaminant, obs_time, obs_date) %>%\n",
    "    summarise(avg = mean(value))\n",
    "    "
   ]
  },
  {
   "cell_type": "code",
   "execution_count": 6,
   "metadata": {
    "vscode": {
     "languageId": "r"
    }
   },
   "outputs": [
    {
     "data": {
      "text/html": [
       "<table class=\"dataframe\">\n",
       "<caption>A tibble: 14 × 3</caption>\n",
       "<thead>\n",
       "\t<tr><th scope=col>site_name</th><th scope=col>site_lat</th><th scope=col>site_long</th></tr>\n",
       "\t<tr><th scope=col>&lt;chr&gt;</th><th scope=col>&lt;dbl&gt;</th><th scope=col>&lt;dbl&gt;</th></tr>\n",
       "</thead>\n",
       "<tbody>\n",
       "\t<tr><td>Ashburton          </td><td>-43.91224</td><td>171.7552</td></tr>\n",
       "\t<tr><td>Geraldine          </td><td>-44.10018</td><td>171.2415</td></tr>\n",
       "\t<tr><td>Kaiapoi            </td><td>-43.38464</td><td>172.6520</td></tr>\n",
       "\t<tr><td>Rangiora           </td><td>-43.30754</td><td>172.5953</td></tr>\n",
       "\t<tr><td>Riccarton Road     </td><td>-43.52975</td><td>172.5987</td></tr>\n",
       "\t<tr><td>St Albans          </td><td>-43.51126</td><td>172.6337</td></tr>\n",
       "\t<tr><td>St Albans EP       </td><td>-43.50857</td><td>172.6359</td></tr>\n",
       "\t<tr><td>St Albans EP       </td><td>-43.50857</td><td>172.6300</td></tr>\n",
       "\t<tr><td>Timaru Anzac Square</td><td>-44.40448</td><td>171.2497</td></tr>\n",
       "\t<tr><td>Waimate Kennedy    </td><td>-44.73261</td><td>171.0498</td></tr>\n",
       "\t<tr><td>Waimate Stadium    </td><td>-44.73573</td><td>171.0499</td></tr>\n",
       "\t<tr><td>Washdyke Alpine    </td><td>-44.35620</td><td>171.2423</td></tr>\n",
       "\t<tr><td>Washdyke Flat Road </td><td>-44.35674</td><td>171.2363</td></tr>\n",
       "\t<tr><td>Woolston           </td><td>-43.55716</td><td>172.6813</td></tr>\n",
       "</tbody>\n",
       "</table>\n"
      ],
      "text/latex": [
       "A tibble: 14 × 3\n",
       "\\begin{tabular}{lll}\n",
       " site\\_name & site\\_lat & site\\_long\\\\\n",
       " <chr> & <dbl> & <dbl>\\\\\n",
       "\\hline\n",
       "\t Ashburton           & -43.91224 & 171.7552\\\\\n",
       "\t Geraldine           & -44.10018 & 171.2415\\\\\n",
       "\t Kaiapoi             & -43.38464 & 172.6520\\\\\n",
       "\t Rangiora            & -43.30754 & 172.5953\\\\\n",
       "\t Riccarton Road      & -43.52975 & 172.5987\\\\\n",
       "\t St Albans           & -43.51126 & 172.6337\\\\\n",
       "\t St Albans EP        & -43.50857 & 172.6359\\\\\n",
       "\t St Albans EP        & -43.50857 & 172.6300\\\\\n",
       "\t Timaru Anzac Square & -44.40448 & 171.2497\\\\\n",
       "\t Waimate Kennedy     & -44.73261 & 171.0498\\\\\n",
       "\t Waimate Stadium     & -44.73573 & 171.0499\\\\\n",
       "\t Washdyke Alpine     & -44.35620 & 171.2423\\\\\n",
       "\t Washdyke Flat Road  & -44.35674 & 171.2363\\\\\n",
       "\t Woolston            & -43.55716 & 172.6813\\\\\n",
       "\\end{tabular}\n"
      ],
      "text/markdown": [
       "\n",
       "A tibble: 14 × 3\n",
       "\n",
       "| site_name &lt;chr&gt; | site_lat &lt;dbl&gt; | site_long &lt;dbl&gt; |\n",
       "|---|---|---|\n",
       "| Ashburton           | -43.91224 | 171.7552 |\n",
       "| Geraldine           | -44.10018 | 171.2415 |\n",
       "| Kaiapoi             | -43.38464 | 172.6520 |\n",
       "| Rangiora            | -43.30754 | 172.5953 |\n",
       "| Riccarton Road      | -43.52975 | 172.5987 |\n",
       "| St Albans           | -43.51126 | 172.6337 |\n",
       "| St Albans EP        | -43.50857 | 172.6359 |\n",
       "| St Albans EP        | -43.50857 | 172.6300 |\n",
       "| Timaru Anzac Square | -44.40448 | 171.2497 |\n",
       "| Waimate Kennedy     | -44.73261 | 171.0498 |\n",
       "| Waimate Stadium     | -44.73573 | 171.0499 |\n",
       "| Washdyke Alpine     | -44.35620 | 171.2423 |\n",
       "| Washdyke Flat Road  | -44.35674 | 171.2363 |\n",
       "| Woolston            | -43.55716 | 172.6813 |\n",
       "\n"
      ],
      "text/plain": [
       "   site_name           site_lat  site_long\n",
       "1  Ashburton           -43.91224 171.7552 \n",
       "2  Geraldine           -44.10018 171.2415 \n",
       "3  Kaiapoi             -43.38464 172.6520 \n",
       "4  Rangiora            -43.30754 172.5953 \n",
       "5  Riccarton Road      -43.52975 172.5987 \n",
       "6  St Albans           -43.51126 172.6337 \n",
       "7  St Albans EP        -43.50857 172.6359 \n",
       "8  St Albans EP        -43.50857 172.6300 \n",
       "9  Timaru Anzac Square -44.40448 171.2497 \n",
       "10 Waimate Kennedy     -44.73261 171.0498 \n",
       "11 Waimate Stadium     -44.73573 171.0499 \n",
       "12 Washdyke Alpine     -44.35620 171.2423 \n",
       "13 Washdyke Flat Road  -44.35674 171.2363 \n",
       "14 Woolston            -43.55716 172.6813 "
      ]
     },
     "metadata": {},
     "output_type": "display_data"
    }
   ],
   "source": [
    "hourly_data %>%\n",
    "    distinct(site_name,site_lat, site_long)"
   ]
  },
  {
   "cell_type": "code",
   "execution_count": 7,
   "metadata": {
    "vscode": {
     "languageId": "r"
    }
   },
   "outputs": [
    {
     "name": "stderr",
     "output_type": "stream",
     "text": [
      "\u001b[1m\u001b[22m`geom_smooth()` using method = 'gam' and formula = 'y ~ s(x, bs = \"cs\")'\n",
      "Warning message:\n",
      "\"\u001b[1m\u001b[22mRemoved 12 rows containing non-finite values (`stat_smooth()`).\"\n"
     ]
    },
    {
     "data": {
      "image/png": "[encoded data removed]",
      "text/plain": [
       "plot without title"
      ]
     },
     "metadata": {
      "image/png": {
       "height": 420,
       "width": 420
      }
     },
     "output_type": "display_data"
    }
   ],
   "source": [
    "hourly_location %>% \n",
    "    filter(contaminant == \"CO\") %>%\n",
    "    ggplot(aes(x = obs_time, y = avg)) + \n",
    "    geom_smooth(aes(color=site_name))"
   ]
  },
  {
   "cell_type": "code",
   "execution_count": 9,
   "metadata": {
    "vscode": {
     "languageId": "r"
    }
   },
   "outputs": [
    {
     "name": "stderr",
     "output_type": "stream",
     "text": [
      "\u001b[1mRows: \u001b[22m\u001b[34m24\u001b[39m \u001b[1mColumns: \u001b[22m\u001b[34m11\u001b[39m\n",
      "\u001b[36m──\u001b[39m \u001b[1mColumn specification\u001b[22m \u001b[36m────────────────────────────────────────────────────────\u001b[39m\n",
      "\u001b[1mDelimiter:\u001b[22m \",\"\n",
      "\u001b[32mdbl\u001b[39m  (10): Mon, Tue, Wed, Thu, Fri, Sat, Sun, Weekday, Weekend, All Days\n",
      "\u001b[34mtime\u001b[39m  (1): Hour\n",
      "\n",
      "\u001b[36mℹ\u001b[39m Use `spec()` to retrieve the full column specification for this data.\n",
      "\u001b[36mℹ\u001b[39m Specify the column types or set `show_col_types = FALSE` to quiet this message.\n"
     ]
    },
    {
     "data": {
      "text/plain": [
       "\n",
       "\n",
       "|skim_type |skim_variable | n_missing| complete_rate|difftime.min |difftime.max |difftime.median | difftime.n_unique| numeric.mean| numeric.sd| numeric.p0| numeric.p25| numeric.p50| numeric.p75| numeric.p100|numeric.hist |\n",
       "|:---------|:-------------|---------:|-------------:|:------------|:------------|:---------------|-----------------:|------------:|----------:|----------:|-----------:|-----------:|-----------:|------------:|:------------|\n",
       "|difftime  |Hour          |         0|             1|0 secs       |82800 secs   |41400 secs      |                24|           NA|         NA|         NA|          NA|          NA|          NA|           NA|NA           |\n",
       "|numeric   |Mon           |         0|             1|NA secs      |NA secs      |NA secs         |                NA|     709.1250|   465.3794|         36|      214.25|       861.0|     1133.50|         1231|▆▂▂▂▇        |\n",
       "|numeric   |Tue           |         0|             1|NA secs      |NA secs      |NA secs         |                NA|     746.6667|   474.2253|         31|      217.50|       912.5|     1172.25|         1268|▆▂▁▃▇        |\n",
       "|numeric   |Wed           |         0|             1|NA secs      |NA secs      |NA secs         |                NA|     758.0000|   466.2131|         36|      283.50|       978.0|     1172.00|         1252|▃▂▁▁▇        |\n",
       "|numeric   |Thu           |         0|             1|NA secs      |NA secs      |NA secs         |                NA|     773.8333|   463.8848|         64|      257.50|       977.0|     1185.25|         1260|▅▁▁▂▇        |\n",
       "|numeric   |Fri           |         0|             1|NA secs      |NA secs      |NA secs         |                NA|     786.0000|   460.0362|         47|      360.00|      1040.5|     1173.50|         1215|▃▁▁▁▇        |\n",
       "|numeric   |Sat           |         0|             1|NA secs      |NA secs      |NA secs         |                NA|     749.4167|   464.6628|         67|      286.75|       874.5|     1182.75|         1263|▅▂▂▂▇        |\n",
       "|numeric   |Sun           |         0|             1|NA secs      |NA secs      |NA secs         |                NA|     648.0000|   431.6401|         94|      235.50|       637.0|     1108.00|         1262|▇▃▃▁▇        |\n",
       "|numeric   |Weekday       |         0|             1|NA secs      |NA secs      |NA secs         |                NA|     754.6667|   463.0527|         52|      265.00|       947.5|     1173.50|         1229|▃▂▁▁▇        |\n",
       "|numeric   |Weekend       |         0|             1|NA secs      |NA secs      |NA secs         |                NA|     699.0000|   443.6871|         81|      277.50|       756.0|     1158.50|         1248|▆▃▁▂▇        |\n",
       "|numeric   |All Days      |         0|             1|NA secs      |NA secs      |NA secs         |                NA|     738.7083|   449.6359|         71|      285.00|       900.5|     1171.00|         1219|▅▂▂▂▇        |"
      ]
     },
     "metadata": {},
     "output_type": "display_data"
    }
   ],
   "source": [
    "traffic_data <- \"Traffic/L5473 SP-2020-09-17T00_00_00-189.csv\" %>%\n",
    "    read_csv()\n",
    "\n",
    "traffic_data %>%\n",
    "    skim() %>%\n",
    "    knitr::kable()"
   ]
  },
  {
   "cell_type": "code",
   "execution_count": 13,
   "metadata": {
    "vscode": {
     "languageId": "r"
    }
   },
   "outputs": [
    {
     "data": {
      "text/html": [
       "<table class=\"dataframe\">\n",
       "<caption>A tibble: 24 × 12</caption>\n",
       "<thead>\n",
       "\t<tr><th scope=col>Hour</th><th scope=col>Mon</th><th scope=col>Tue</th><th scope=col>Wed</th><th scope=col>Thu</th><th scope=col>Fri</th><th scope=col>Sat</th><th scope=col>Sun</th><th scope=col>Weekday</th><th scope=col>Weekend</th><th scope=col>All Days</th><th scope=col>average</th></tr>\n",
       "\t<tr><th scope=col>&lt;time&gt;</th><th scope=col>&lt;dbl&gt;</th><th scope=col>&lt;dbl&gt;</th><th scope=col>&lt;dbl&gt;</th><th scope=col>&lt;dbl&gt;</th><th scope=col>&lt;dbl&gt;</th><th scope=col>&lt;dbl&gt;</th><th scope=col>&lt;dbl&gt;</th><th scope=col>&lt;dbl&gt;</th><th scope=col>&lt;dbl&gt;</th><th scope=col>&lt;dbl&gt;</th><th scope=col>&lt;dbl&gt;</th></tr>\n",
       "</thead>\n",
       "<tbody>\n",
       "\t<tr><td>00:00:00</td><td> 109</td><td> 124</td><td> 146</td><td> 199</td><td> 151</td><td> 307</td><td> 328</td><td> 146</td><td> 318</td><td> 195</td><td> 195</td></tr>\n",
       "\t<tr><td>01:00:00</td><td>  36</td><td>  73</td><td>  89</td><td>  89</td><td>  75</td><td> 186</td><td> 239</td><td>  72</td><td> 213</td><td> 112</td><td> 112</td></tr>\n",
       "\t<tr><td>02:00:00</td><td>  37</td><td>  31</td><td>  52</td><td>  79</td><td>  61</td><td> 117</td><td> 188</td><td>  52</td><td> 153</td><td>  81</td><td>  81</td></tr>\n",
       "\t<tr><td>03:00:00</td><td>  48</td><td>  68</td><td>  36</td><td>  64</td><td>  47</td><td>  81</td><td> 151</td><td>  53</td><td> 116</td><td>  71</td><td>  71</td></tr>\n",
       "\t<tr><td>04:00:00</td><td>  60</td><td>  75</td><td>  72</td><td> 110</td><td>  88</td><td>  67</td><td>  94</td><td>  81</td><td>  81</td><td>  81</td><td>  81</td></tr>\n",
       "\t<tr><td>05:00:00</td><td> 155</td><td> 171</td><td> 183</td><td> 164</td><td> 156</td><td> 102</td><td>  95</td><td> 166</td><td>  99</td><td> 147</td><td> 147</td></tr>\n",
       "\t<tr><td>06:00:00</td><td> 502</td><td> 494</td><td> 464</td><td> 490</td><td> 487</td><td> 226</td><td> 172</td><td> 487</td><td> 199</td><td> 405</td><td> 405</td></tr>\n",
       "\t<tr><td>07:00:00</td><td> 858</td><td> 929</td><td> 917</td><td> 864</td><td> 890</td><td> 356</td><td> 241</td><td> 892</td><td> 299</td><td> 722</td><td> 722</td></tr>\n",
       "\t<tr><td>08:00:00</td><td>1089</td><td>1122</td><td>1039</td><td>1150</td><td>1181</td><td> 624</td><td> 443</td><td>1116</td><td> 534</td><td> 950</td><td> 950</td></tr>\n",
       "\t<tr><td>09:00:00</td><td> 945</td><td>1007</td><td>1092</td><td>1081</td><td>1037</td><td> 984</td><td> 790</td><td>1032</td><td> 887</td><td> 991</td><td> 991</td></tr>\n",
       "\t<tr><td>10:00:00</td><td>1088</td><td>1096</td><td>1131</td><td>1086</td><td>1150</td><td>1151</td><td> 898</td><td>1110</td><td>1025</td><td>1086</td><td>1086</td></tr>\n",
       "\t<tr><td>11:00:00</td><td>1117</td><td>1143</td><td>1184</td><td>1196</td><td>1215</td><td>1174</td><td>1135</td><td>1171</td><td>1155</td><td>1166</td><td>1166</td></tr>\n",
       "\t<tr><td>12:00:00</td><td>1183</td><td>1209</td><td>1193</td><td>1197</td><td>1182</td><td>1167</td><td>1171</td><td>1193</td><td>1169</td><td>1186</td><td>1186</td></tr>\n",
       "\t<tr><td>13:00:00</td><td>1194</td><td>1200</td><td>1202</td><td>1183</td><td>1171</td><td>1233</td><td>1262</td><td>1190</td><td>1248</td><td>1206</td><td>1206</td></tr>\n",
       "\t<tr><td>14:00:00</td><td>1193</td><td>1241</td><td>1241</td><td>1224</td><td>1128</td><td>1209</td><td>1187</td><td>1205</td><td>1198</td><td>1203</td><td>1203</td></tr>\n",
       "\t<tr><td>15:00:00</td><td>1212</td><td>1163</td><td>1196</td><td>1260</td><td>1076</td><td>1263</td><td>1221</td><td>1181</td><td>1242</td><td>1199</td><td>1199</td></tr>\n",
       "\t<tr><td>16:00:00</td><td>1231</td><td>1268</td><td>1252</td><td>1192</td><td>1201</td><td>1230</td><td>1158</td><td>1229</td><td>1194</td><td>1219</td><td>1219</td></tr>\n",
       "\t<tr><td>17:00:00</td><td>1213</td><td>1268</td><td>1168</td><td>1249</td><td>1187</td><td>1261</td><td>1099</td><td>1217</td><td>1180</td><td>1206</td><td>1206</td></tr>\n",
       "\t<tr><td>18:00:00</td><td>1048</td><td>1214</td><td>1130</td><td>1143</td><td>1207</td><td>1217</td><td>1040</td><td>1148</td><td>1129</td><td>1143</td><td>1143</td></tr>\n",
       "\t<tr><td>19:00:00</td><td> 864</td><td> 896</td><td>1063</td><td>1050</td><td>1142</td><td>1155</td><td> 784</td><td>1003</td><td> 970</td><td> 993</td><td> 993</td></tr>\n",
       "\t<tr><td>20:00:00</td><td> 677</td><td> 795</td><td> 849</td><td> 904</td><td>1044</td><td> 947</td><td> 740</td><td> 854</td><td> 844</td><td> 851</td><td> 851</td></tr>\n",
       "\t<tr><td>21:00:00</td><td> 553</td><td> 664</td><td> 682</td><td> 837</td><td> 901</td><td> 802</td><td> 534</td><td> 727</td><td> 668</td><td> 710</td><td> 710</td></tr>\n",
       "\t<tr><td>22:00:00</td><td> 373</td><td> 436</td><td> 494</td><td> 484</td><td> 659</td><td> 635</td><td> 357</td><td> 489</td><td> 496</td><td> 491</td><td> 491</td></tr>\n",
       "\t<tr><td>23:00:00</td><td> 234</td><td> 233</td><td> 317</td><td> 277</td><td> 428</td><td> 492</td><td> 225</td><td> 298</td><td> 359</td><td> 315</td><td> 315</td></tr>\n",
       "</tbody>\n",
       "</table>\n"
      ],
      "text/latex": [
       "A tibble: 24 × 12\n",
       "\\begin{tabular}{llllllllllll}\n",
       " Hour & Mon & Tue & Wed & Thu & Fri & Sat & Sun & Weekday & Weekend & All Days & average\\\\\n",
       " <time> & <dbl> & <dbl> & <dbl> & <dbl> & <dbl> & <dbl> & <dbl> & <dbl> & <dbl> & <dbl> & <dbl>\\\\\n",
       "\\hline\n",
       "\t 00:00:00 &  109 &  124 &  146 &  199 &  151 &  307 &  328 &  146 &  318 &  195 &  195\\\\\n",
       "\t 01:00:00 &   36 &   73 &   89 &   89 &   75 &  186 &  239 &   72 &  213 &  112 &  112\\\\\n",
       "\t 02:00:00 &   37 &   31 &   52 &   79 &   61 &  117 &  188 &   52 &  153 &   81 &   81\\\\\n",
       "\t 03:00:00 &   48 &   68 &   36 &   64 &   47 &   81 &  151 &   53 &  116 &   71 &   71\\\\\n",
       "\t 04:00:00 &   60 &   75 &   72 &  110 &   88 &   67 &   94 &   81 &   81 &   81 &   81\\\\\n",
       "\t 05:00:00 &  155 &  171 &  183 &  164 &  156 &  102 &   95 &  166 &   99 &  147 &  147\\\\\n",
       "\t 06:00:00 &  502 &  494 &  464 &  490 &  487 &  226 &  172 &  487 &  199 &  405 &  405\\\\\n",
       "\t 07:00:00 &  858 &  929 &  917 &  864 &  890 &  356 &  241 &  892 &  299 &  722 &  722\\\\\n",
       "\t 08:00:00 & 1089 & 1122 & 1039 & 1150 & 1181 &  624 &  443 & 1116 &  534 &  950 &  950\\\\\n",
       "\t 09:00:00 &  945 & 1007 & 1092 & 1081 & 1037 &  984 &  790 & 1032 &  887 &  991 &  991\\\\\n",
       "\t 10:00:00 & 1088 & 1096 & 1131 & 1086 & 1150 & 1151 &  898 & 1110 & 1025 & 1086 & 1086\\\\\n",
       "\t 11:00:00 & 1117 & 1143 & 1184 & 1196 & 1215 & 1174 & 1135 & 1171 & 1155 & 1166 & 1166\\\\\n",
       "\t 12:00:00 & 1183 & 1209 & 1193 & 1197 & 1182 & 1167 & 1171 & 1193 & 1169 & 1186 & 1186\\\\\n",
       "\t 13:00:00 & 1194 & 1200 & 1202 & 1183 & 1171 & 1233 & 1262 & 1190 & 1248 & 1206 & 1206\\\\\n",
       "\t 14:00:00 & 1193 & 1241 & 1241 & 1224 & 1128 & 1209 & 1187 & 1205 & 1198 & 1203 & 1203\\\\\n",
       "\t 15:00:00 & 1212 & 1163 & 1196 & 1260 & 1076 & 1263 & 1221 & 1181 & 1242 & 1199 & 1199\\\\\n",
       "\t 16:00:00 & 1231 & 1268 & 1252 & 1192 & 1201 & 1230 & 1158 & 1229 & 1194 & 1219 & 1219\\\\\n",
       "\t 17:00:00 & 1213 & 1268 & 1168 & 1249 & 1187 & 1261 & 1099 & 1217 & 1180 & 1206 & 1206\\\\\n",
       "\t 18:00:00 & 1048 & 1214 & 1130 & 1143 & 1207 & 1217 & 1040 & 1148 & 1129 & 1143 & 1143\\\\\n",
       "\t 19:00:00 &  864 &  896 & 1063 & 1050 & 1142 & 1155 &  784 & 1003 &  970 &  993 &  993\\\\\n",
       "\t 20:00:00 &  677 &  795 &  849 &  904 & 1044 &  947 &  740 &  854 &  844 &  851 &  851\\\\\n",
       "\t 21:00:00 &  553 &  664 &  682 &  837 &  901 &  802 &  534 &  727 &  668 &  710 &  710\\\\\n",
       "\t 22:00:00 &  373 &  436 &  494 &  484 &  659 &  635 &  357 &  489 &  496 &  491 &  491\\\\\n",
       "\t 23:00:00 &  234 &  233 &  317 &  277 &  428 &  492 &  225 &  298 &  359 &  315 &  315\\\\\n",
       "\\end{tabular}\n"
      ],
      "text/markdown": [
       "\n",
       "A tibble: 24 × 12\n",
       "\n",
       "| Hour &lt;time&gt; | Mon &lt;dbl&gt; | Tue &lt;dbl&gt; | Wed &lt;dbl&gt; | Thu &lt;dbl&gt; | Fri &lt;dbl&gt; | Sat &lt;dbl&gt; | Sun &lt;dbl&gt; | Weekday &lt;dbl&gt; | Weekend &lt;dbl&gt; | All Days &lt;dbl&gt; | average &lt;dbl&gt; |\n",
       "|---|---|---|---|---|---|---|---|---|---|---|---|\n",
       "| 00:00:00 |  109 |  124 |  146 |  199 |  151 |  307 |  328 |  146 |  318 |  195 |  195 |\n",
       "| 01:00:00 |   36 |   73 |   89 |   89 |   75 |  186 |  239 |   72 |  213 |  112 |  112 |\n",
       "| 02:00:00 |   37 |   31 |   52 |   79 |   61 |  117 |  188 |   52 |  153 |   81 |   81 |\n",
       "| 03:00:00 |   48 |   68 |   36 |   64 |   47 |   81 |  151 |   53 |  116 |   71 |   71 |\n",
       "| 04:00:00 |   60 |   75 |   72 |  110 |   88 |   67 |   94 |   81 |   81 |   81 |   81 |\n",
       "| 05:00:00 |  155 |  171 |  183 |  164 |  156 |  102 |   95 |  166 |   99 |  147 |  147 |\n",
       "| 06:00:00 |  502 |  494 |  464 |  490 |  487 |  226 |  172 |  487 |  199 |  405 |  405 |\n",
       "| 07:00:00 |  858 |  929 |  917 |  864 |  890 |  356 |  241 |  892 |  299 |  722 |  722 |\n",
       "| 08:00:00 | 1089 | 1122 | 1039 | 1150 | 1181 |  624 |  443 | 1116 |  534 |  950 |  950 |\n",
       "| 09:00:00 |  945 | 1007 | 1092 | 1081 | 1037 |  984 |  790 | 1032 |  887 |  991 |  991 |\n",
       "| 10:00:00 | 1088 | 1096 | 1131 | 1086 | 1150 | 1151 |  898 | 1110 | 1025 | 1086 | 1086 |\n",
       "| 11:00:00 | 1117 | 1143 | 1184 | 1196 | 1215 | 1174 | 1135 | 1171 | 1155 | 1166 | 1166 |\n",
       "| 12:00:00 | 1183 | 1209 | 1193 | 1197 | 1182 | 1167 | 1171 | 1193 | 1169 | 1186 | 1186 |\n",
       "| 13:00:00 | 1194 | 1200 | 1202 | 1183 | 1171 | 1233 | 1262 | 1190 | 1248 | 1206 | 1206 |\n",
       "| 14:00:00 | 1193 | 1241 | 1241 | 1224 | 1128 | 1209 | 1187 | 1205 | 1198 | 1203 | 1203 |\n",
       "| 15:00:00 | 1212 | 1163 | 1196 | 1260 | 1076 | 1263 | 1221 | 1181 | 1242 | 1199 | 1199 |\n",
       "| 16:00:00 | 1231 | 1268 | 1252 | 1192 | 1201 | 1230 | 1158 | 1229 | 1194 | 1219 | 1219 |\n",
       "| 17:00:00 | 1213 | 1268 | 1168 | 1249 | 1187 | 1261 | 1099 | 1217 | 1180 | 1206 | 1206 |\n",
       "| 18:00:00 | 1048 | 1214 | 1130 | 1143 | 1207 | 1217 | 1040 | 1148 | 1129 | 1143 | 1143 |\n",
       "| 19:00:00 |  864 |  896 | 1063 | 1050 | 1142 | 1155 |  784 | 1003 |  970 |  993 |  993 |\n",
       "| 20:00:00 |  677 |  795 |  849 |  904 | 1044 |  947 |  740 |  854 |  844 |  851 |  851 |\n",
       "| 21:00:00 |  553 |  664 |  682 |  837 |  901 |  802 |  534 |  727 |  668 |  710 |  710 |\n",
       "| 22:00:00 |  373 |  436 |  494 |  484 |  659 |  635 |  357 |  489 |  496 |  491 |  491 |\n",
       "| 23:00:00 |  234 |  233 |  317 |  277 |  428 |  492 |  225 |  298 |  359 |  315 |  315 |\n",
       "\n"
      ],
      "text/plain": [
       "   Hour     Mon  Tue  Wed  Thu  Fri  Sat  Sun  Weekday Weekend All Days average\n",
       "1  00:00:00  109  124  146  199  151  307  328  146     318     195      195   \n",
       "2  01:00:00   36   73   89   89   75  186  239   72     213     112      112   \n",
       "3  02:00:00   37   31   52   79   61  117  188   52     153      81       81   \n",
       "4  03:00:00   48   68   36   64   47   81  151   53     116      71       71   \n",
       "5  04:00:00   60   75   72  110   88   67   94   81      81      81       81   \n",
       "6  05:00:00  155  171  183  164  156  102   95  166      99     147      147   \n",
       "7  06:00:00  502  494  464  490  487  226  172  487     199     405      405   \n",
       "8  07:00:00  858  929  917  864  890  356  241  892     299     722      722   \n",
       "9  08:00:00 1089 1122 1039 1150 1181  624  443 1116     534     950      950   \n",
       "10 09:00:00  945 1007 1092 1081 1037  984  790 1032     887     991      991   \n",
       "11 10:00:00 1088 1096 1131 1086 1150 1151  898 1110    1025    1086     1086   \n",
       "12 11:00:00 1117 1143 1184 1196 1215 1174 1135 1171    1155    1166     1166   \n",
       "13 12:00:00 1183 1209 1193 1197 1182 1167 1171 1193    1169    1186     1186   \n",
       "14 13:00:00 1194 1200 1202 1183 1171 1233 1262 1190    1248    1206     1206   \n",
       "15 14:00:00 1193 1241 1241 1224 1128 1209 1187 1205    1198    1203     1203   \n",
       "16 15:00:00 1212 1163 1196 1260 1076 1263 1221 1181    1242    1199     1199   \n",
       "17 16:00:00 1231 1268 1252 1192 1201 1230 1158 1229    1194    1219     1219   \n",
       "18 17:00:00 1213 1268 1168 1249 1187 1261 1099 1217    1180    1206     1206   \n",
       "19 18:00:00 1048 1214 1130 1143 1207 1217 1040 1148    1129    1143     1143   \n",
       "20 19:00:00  864  896 1063 1050 1142 1155  784 1003     970     993      993   \n",
       "21 20:00:00  677  795  849  904 1044  947  740  854     844     851      851   \n",
       "22 21:00:00  553  664  682  837  901  802  534  727     668     710      710   \n",
       "23 22:00:00  373  436  494  484  659  635  357  489     496     491      491   \n",
       "24 23:00:00  234  233  317  277  428  492  225  298     359     315      315   "
      ]
     },
     "metadata": {},
     "output_type": "display_data"
    }
   ],
   "source": [
    "traffic_data %<>%\n",
    "    mutate(average=round(rowMeans(select(traffic_data, -Hour, -(Weekday:'All Days')))))\n",
    "\n",
    "traffic_data() %>%\n",
    "    ggplot(aes(x = Hour)) + \n",
    "    geom_smooth(aes(y=Mon))"
   ]
  }
 ],
 "metadata": {
  "kernelspec": {
   "display_name": "R",
   "language": "R",
   "name": "ir"
  },
  "language_info": {
   "codemirror_mode": "r",
   "file_extension": ".r",
   "mimetype": "text/x-r-source",
   "name": "R",
   "pygments_lexer": "r",
   "version": "4.3.1"
  },
  "orig_nbformat": 4
 },
 "nbformat": 4,
 "nbformat_minor": 2
}
