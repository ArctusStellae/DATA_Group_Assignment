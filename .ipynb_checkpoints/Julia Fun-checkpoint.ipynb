{
 "cells": [
  {
   "cell_type": "markdown",
   "metadata": {},
   "source": [
    "Initialise!"
   ]
  },
  {
   "cell_type": "code",
   "execution_count": 1,
   "metadata": {},
   "outputs": [
    {
     "name": "stderr",
     "output_type": "stream",
     "text": [
      "\u001b[36m\u001b[1m[ \u001b[22m\u001b[39m\u001b[36m\u001b[1mInfo: \u001b[22m\u001b[39mPrecompiling Gadfly [c91e804a-d5a3-530f-b6f0-dfbca275c004]\n"
     ]
    }
   ],
   "source": [
    "using Queryverse\n",
    "using DataFrames\n",
    "using CSV\n",
    "using Gadfly"
   ]
  },
  {
   "cell_type": "markdown",
   "metadata": {},
   "source": [
    "Load Traffic Data CSV!"
   ]
  },
  {
   "cell_type": "code",
   "execution_count": 2,
   "metadata": {},
   "outputs": [
    {
     "data": {
      "text/html": [
       "<div><div style = \"float: left;\"><span>24×11 DataFrame</span></div><div style = \"clear: both;\"></div></div><div class = \"data-frame\" style = \"overflow-x: scroll;\"><table class = \"data-frame\" style = \"margin-bottom: 6px;\"><thead><tr class = \"header\"><th class = \"rowNumber\" style = \"font-weight: bold; text-align: right;\">Row</th><th style = \"text-align: left;\">Hour</th><th style = \"text-align: left;\">Mon</th><th style = \"text-align: left;\">Tue</th><th style = \"text-align: left;\">Wed</th><th style = \"text-align: left;\">Thu</th><th style = \"text-align: left;\">Fri</th><th style = \"text-align: left;\">Sat</th><th style = \"text-align: left;\">Sun</th><th style = \"text-align: left;\">Weekday</th><th style = \"text-align: left;\">Weekend</th><th style = \"text-align: left;\">All Days</th></tr><tr class = \"subheader headerLastRow\"><th class = \"rowNumber\" style = \"font-weight: bold; text-align: right;\"></th><th title = \"Dates.Time\" style = \"text-align: left;\">Time</th><th title = \"Int64\" style = \"text-align: left;\">Int64</th><th title = \"Int64\" style = \"text-align: left;\">Int64</th><th title = \"Int64\" style = \"text-align: left;\">Int64</th><th title = \"Int64\" style = \"text-align: left;\">Int64</th><th title = \"Int64\" style = \"text-align: left;\">Int64</th><th title = \"Int64\" style = \"text-align: left;\">Int64</th><th title = \"Int64\" style = \"text-align: left;\">Int64</th><th title = \"Int64\" style = \"text-align: left;\">Int64</th><th title = \"Int64\" style = \"text-align: left;\">Int64</th><th title = \"Int64\" style = \"text-align: left;\">Int64</th></tr></thead><tbody><tr><td class = \"rowNumber\" style = \"font-weight: bold; text-align: right;\">1</td><td style = \"text-align: left;\">00:00:00</td><td style = \"text-align: right;\">109</td><td style = \"text-align: right;\">124</td><td style = \"text-align: right;\">146</td><td style = \"text-align: right;\">199</td><td style = \"text-align: right;\">151</td><td style = \"text-align: right;\">307</td><td style = \"text-align: right;\">328</td><td style = \"text-align: right;\">146</td><td style = \"text-align: right;\">318</td><td style = \"text-align: right;\">195</td></tr><tr><td class = \"rowNumber\" style = \"font-weight: bold; text-align: right;\">2</td><td style = \"text-align: left;\">01:00:00</td><td style = \"text-align: right;\">36</td><td style = \"text-align: right;\">73</td><td style = \"text-align: right;\">89</td><td style = \"text-align: right;\">89</td><td style = \"text-align: right;\">75</td><td style = \"text-align: right;\">186</td><td style = \"text-align: right;\">239</td><td style = \"text-align: right;\">72</td><td style = \"text-align: right;\">213</td><td style = \"text-align: right;\">112</td></tr><tr><td class = \"rowNumber\" style = \"font-weight: bold; text-align: right;\">3</td><td style = \"text-align: left;\">02:00:00</td><td style = \"text-align: right;\">37</td><td style = \"text-align: right;\">31</td><td style = \"text-align: right;\">52</td><td style = \"text-align: right;\">79</td><td style = \"text-align: right;\">61</td><td style = \"text-align: right;\">117</td><td style = \"text-align: right;\">188</td><td style = \"text-align: right;\">52</td><td style = \"text-align: right;\">153</td><td style = \"text-align: right;\">81</td></tr><tr><td class = \"rowNumber\" style = \"font-weight: bold; text-align: right;\">4</td><td style = \"text-align: left;\">03:00:00</td><td style = \"text-align: right;\">48</td><td style = \"text-align: right;\">68</td><td style = \"text-align: right;\">36</td><td style = \"text-align: right;\">64</td><td style = \"text-align: right;\">47</td><td style = \"text-align: right;\">81</td><td style = \"text-align: right;\">151</td><td style = \"text-align: right;\">53</td><td style = \"text-align: right;\">116</td><td style = \"text-align: right;\">71</td></tr><tr><td class = \"rowNumber\" style = \"font-weight: bold; text-align: right;\">5</td><td style = \"text-align: left;\">04:00:00</td><td style = \"text-align: right;\">60</td><td style = \"text-align: right;\">75</td><td style = \"text-align: right;\">72</td><td style = \"text-align: right;\">110</td><td style = \"text-align: right;\">88</td><td style = \"text-align: right;\">67</td><td style = \"text-align: right;\">94</td><td style = \"text-align: right;\">81</td><td style = \"text-align: right;\">81</td><td style = \"text-align: right;\">81</td></tr><tr><td class = \"rowNumber\" style = \"font-weight: bold; text-align: right;\">6</td><td style = \"text-align: left;\">05:00:00</td><td style = \"text-align: right;\">155</td><td style = \"text-align: right;\">171</td><td style = \"text-align: right;\">183</td><td style = \"text-align: right;\">164</td><td style = \"text-align: right;\">156</td><td style = \"text-align: right;\">102</td><td style = \"text-align: right;\">95</td><td style = \"text-align: right;\">166</td><td style = \"text-align: right;\">99</td><td style = \"text-align: right;\">147</td></tr><tr><td class = \"rowNumber\" style = \"font-weight: bold; text-align: right;\">7</td><td style = \"text-align: left;\">06:00:00</td><td style = \"text-align: right;\">502</td><td style = \"text-align: right;\">494</td><td style = \"text-align: right;\">464</td><td style = \"text-align: right;\">490</td><td style = \"text-align: right;\">487</td><td style = \"text-align: right;\">226</td><td style = \"text-align: right;\">172</td><td style = \"text-align: right;\">487</td><td style = \"text-align: right;\">199</td><td style = \"text-align: right;\">405</td></tr><tr><td class = \"rowNumber\" style = \"font-weight: bold; text-align: right;\">8</td><td style = \"text-align: left;\">07:00:00</td><td style = \"text-align: right;\">858</td><td style = \"text-align: right;\">929</td><td style = \"text-align: right;\">917</td><td style = \"text-align: right;\">864</td><td style = \"text-align: right;\">890</td><td style = \"text-align: right;\">356</td><td style = \"text-align: right;\">241</td><td style = \"text-align: right;\">892</td><td style = \"text-align: right;\">299</td><td style = \"text-align: right;\">722</td></tr><tr><td class = \"rowNumber\" style = \"font-weight: bold; text-align: right;\">9</td><td style = \"text-align: left;\">08:00:00</td><td style = \"text-align: right;\">1089</td><td style = \"text-align: right;\">1122</td><td style = \"text-align: right;\">1039</td><td style = \"text-align: right;\">1150</td><td style = \"text-align: right;\">1181</td><td style = \"text-align: right;\">624</td><td style = \"text-align: right;\">443</td><td style = \"text-align: right;\">1116</td><td style = \"text-align: right;\">534</td><td style = \"text-align: right;\">950</td></tr><tr><td class = \"rowNumber\" style = \"font-weight: bold; text-align: right;\">10</td><td style = \"text-align: left;\">09:00:00</td><td style = \"text-align: right;\">945</td><td style = \"text-align: right;\">1007</td><td style = \"text-align: right;\">1092</td><td style = \"text-align: right;\">1081</td><td style = \"text-align: right;\">1037</td><td style = \"text-align: right;\">984</td><td style = \"text-align: right;\">790</td><td style = \"text-align: right;\">1032</td><td style = \"text-align: right;\">887</td><td style = \"text-align: right;\">991</td></tr><tr><td class = \"rowNumber\" style = \"font-weight: bold; text-align: right;\">11</td><td style = \"text-align: left;\">10:00:00</td><td style = \"text-align: right;\">1088</td><td style = \"text-align: right;\">1096</td><td style = \"text-align: right;\">1131</td><td style = \"text-align: right;\">1086</td><td style = \"text-align: right;\">1150</td><td style = \"text-align: right;\">1151</td><td style = \"text-align: right;\">898</td><td style = \"text-align: right;\">1110</td><td style = \"text-align: right;\">1025</td><td style = \"text-align: right;\">1086</td></tr><tr><td class = \"rowNumber\" style = \"font-weight: bold; text-align: right;\">12</td><td style = \"text-align: left;\">11:00:00</td><td style = \"text-align: right;\">1117</td><td style = \"text-align: right;\">1143</td><td style = \"text-align: right;\">1184</td><td style = \"text-align: right;\">1196</td><td style = \"text-align: right;\">1215</td><td style = \"text-align: right;\">1174</td><td style = \"text-align: right;\">1135</td><td style = \"text-align: right;\">1171</td><td style = \"text-align: right;\">1155</td><td style = \"text-align: right;\">1166</td></tr><tr><td class = \"rowNumber\" style = \"font-weight: bold; text-align: right;\">13</td><td style = \"text-align: left;\">12:00:00</td><td style = \"text-align: right;\">1183</td><td style = \"text-align: right;\">1209</td><td style = \"text-align: right;\">1193</td><td style = \"text-align: right;\">1197</td><td style = \"text-align: right;\">1182</td><td style = \"text-align: right;\">1167</td><td style = \"text-align: right;\">1171</td><td style = \"text-align: right;\">1193</td><td style = \"text-align: right;\">1169</td><td style = \"text-align: right;\">1186</td></tr><tr><td class = \"rowNumber\" style = \"font-weight: bold; text-align: right;\">14</td><td style = \"text-align: left;\">13:00:00</td><td style = \"text-align: right;\">1194</td><td style = \"text-align: right;\">1200</td><td style = \"text-align: right;\">1202</td><td style = \"text-align: right;\">1183</td><td style = \"text-align: right;\">1171</td><td style = \"text-align: right;\">1233</td><td style = \"text-align: right;\">1262</td><td style = \"text-align: right;\">1190</td><td style = \"text-align: right;\">1248</td><td style = \"text-align: right;\">1206</td></tr><tr><td class = \"rowNumber\" style = \"font-weight: bold; text-align: right;\">15</td><td style = \"text-align: left;\">14:00:00</td><td style = \"text-align: right;\">1193</td><td style = \"text-align: right;\">1241</td><td style = \"text-align: right;\">1241</td><td style = \"text-align: right;\">1224</td><td style = \"text-align: right;\">1128</td><td style = \"text-align: right;\">1209</td><td style = \"text-align: right;\">1187</td><td style = \"text-align: right;\">1205</td><td style = \"text-align: right;\">1198</td><td style = \"text-align: right;\">1203</td></tr><tr><td class = \"rowNumber\" style = \"font-weight: bold; text-align: right;\">16</td><td style = \"text-align: left;\">15:00:00</td><td style = \"text-align: right;\">1212</td><td style = \"text-align: right;\">1163</td><td style = \"text-align: right;\">1196</td><td style = \"text-align: right;\">1260</td><td style = \"text-align: right;\">1076</td><td style = \"text-align: right;\">1263</td><td style = \"text-align: right;\">1221</td><td style = \"text-align: right;\">1181</td><td style = \"text-align: right;\">1242</td><td style = \"text-align: right;\">1199</td></tr><tr><td class = \"rowNumber\" style = \"font-weight: bold; text-align: right;\">17</td><td style = \"text-align: left;\">16:00:00</td><td style = \"text-align: right;\">1231</td><td style = \"text-align: right;\">1268</td><td style = \"text-align: right;\">1252</td><td style = \"text-align: right;\">1192</td><td style = \"text-align: right;\">1201</td><td style = \"text-align: right;\">1230</td><td style = \"text-align: right;\">1158</td><td style = \"text-align: right;\">1229</td><td style = \"text-align: right;\">1194</td><td style = \"text-align: right;\">1219</td></tr><tr><td class = \"rowNumber\" style = \"font-weight: bold; text-align: right;\">18</td><td style = \"text-align: left;\">17:00:00</td><td style = \"text-align: right;\">1213</td><td style = \"text-align: right;\">1268</td><td style = \"text-align: right;\">1168</td><td style = \"text-align: right;\">1249</td><td style = \"text-align: right;\">1187</td><td style = \"text-align: right;\">1261</td><td style = \"text-align: right;\">1099</td><td style = \"text-align: right;\">1217</td><td style = \"text-align: right;\">1180</td><td style = \"text-align: right;\">1206</td></tr><tr><td class = \"rowNumber\" style = \"font-weight: bold; text-align: right;\">19</td><td style = \"text-align: left;\">18:00:00</td><td style = \"text-align: right;\">1048</td><td style = \"text-align: right;\">1214</td><td style = \"text-align: right;\">1130</td><td style = \"text-align: right;\">1143</td><td style = \"text-align: right;\">1207</td><td style = \"text-align: right;\">1217</td><td style = \"text-align: right;\">1040</td><td style = \"text-align: right;\">1148</td><td style = \"text-align: right;\">1129</td><td style = \"text-align: right;\">1143</td></tr><tr><td class = \"rowNumber\" style = \"font-weight: bold; text-align: right;\">20</td><td style = \"text-align: left;\">19:00:00</td><td style = \"text-align: right;\">864</td><td style = \"text-align: right;\">896</td><td style = \"text-align: right;\">1063</td><td style = \"text-align: right;\">1050</td><td style = \"text-align: right;\">1142</td><td style = \"text-align: right;\">1155</td><td style = \"text-align: right;\">784</td><td style = \"text-align: right;\">1003</td><td style = \"text-align: right;\">970</td><td style = \"text-align: right;\">993</td></tr><tr><td class = \"rowNumber\" style = \"font-weight: bold; text-align: right;\">21</td><td style = \"text-align: left;\">20:00:00</td><td style = \"text-align: right;\">677</td><td style = \"text-align: right;\">795</td><td style = \"text-align: right;\">849</td><td style = \"text-align: right;\">904</td><td style = \"text-align: right;\">1044</td><td style = \"text-align: right;\">947</td><td style = \"text-align: right;\">740</td><td style = \"text-align: right;\">854</td><td style = \"text-align: right;\">844</td><td style = \"text-align: right;\">851</td></tr><tr><td class = \"rowNumber\" style = \"font-weight: bold; text-align: right;\">22</td><td style = \"text-align: left;\">21:00:00</td><td style = \"text-align: right;\">553</td><td style = \"text-align: right;\">664</td><td style = \"text-align: right;\">682</td><td style = \"text-align: right;\">837</td><td style = \"text-align: right;\">901</td><td style = \"text-align: right;\">802</td><td style = \"text-align: right;\">534</td><td style = \"text-align: right;\">727</td><td style = \"text-align: right;\">668</td><td style = \"text-align: right;\">710</td></tr><tr><td class = \"rowNumber\" style = \"font-weight: bold; text-align: right;\">23</td><td style = \"text-align: left;\">22:00:00</td><td style = \"text-align: right;\">373</td><td style = \"text-align: right;\">436</td><td style = \"text-align: right;\">494</td><td style = \"text-align: right;\">484</td><td style = \"text-align: right;\">659</td><td style = \"text-align: right;\">635</td><td style = \"text-align: right;\">357</td><td style = \"text-align: right;\">489</td><td style = \"text-align: right;\">496</td><td style = \"text-align: right;\">491</td></tr><tr><td class = \"rowNumber\" style = \"font-weight: bold; text-align: right;\">24</td><td style = \"text-align: left;\">23:00:00</td><td style = \"text-align: right;\">234</td><td style = \"text-align: right;\">233</td><td style = \"text-align: right;\">317</td><td style = \"text-align: right;\">277</td><td style = \"text-align: right;\">428</td><td style = \"text-align: right;\">492</td><td style = \"text-align: right;\">225</td><td style = \"text-align: right;\">298</td><td style = \"text-align: right;\">359</td><td style = \"text-align: right;\">315</td></tr></tbody></table></div>"
      ],
      "text/latex": [
       "\\begin{tabular}{r|ccccccccccc}\n",
       "\t& Hour & Mon & Tue & Wed & Thu & Fri & Sat & Sun & Weekday & Weekend & All Days\\\\\n",
       "\t\\hline\n",
       "\t& Time & Int64 & Int64 & Int64 & Int64 & Int64 & Int64 & Int64 & Int64 & Int64 & Int64\\\\\n",
       "\t\\hline\n",
       "\t1 & 00:00:00 & 109 & 124 & 146 & 199 & 151 & 307 & 328 & 146 & 318 & 195 \\\\\n",
       "\t2 & 01:00:00 & 36 & 73 & 89 & 89 & 75 & 186 & 239 & 72 & 213 & 112 \\\\\n",
       "\t3 & 02:00:00 & 37 & 31 & 52 & 79 & 61 & 117 & 188 & 52 & 153 & 81 \\\\\n",
       "\t4 & 03:00:00 & 48 & 68 & 36 & 64 & 47 & 81 & 151 & 53 & 116 & 71 \\\\\n",
       "\t5 & 04:00:00 & 60 & 75 & 72 & 110 & 88 & 67 & 94 & 81 & 81 & 81 \\\\\n",
       "\t6 & 05:00:00 & 155 & 171 & 183 & 164 & 156 & 102 & 95 & 166 & 99 & 147 \\\\\n",
       "\t7 & 06:00:00 & 502 & 494 & 464 & 490 & 487 & 226 & 172 & 487 & 199 & 405 \\\\\n",
       "\t8 & 07:00:00 & 858 & 929 & 917 & 864 & 890 & 356 & 241 & 892 & 299 & 722 \\\\\n",
       "\t9 & 08:00:00 & 1089 & 1122 & 1039 & 1150 & 1181 & 624 & 443 & 1116 & 534 & 950 \\\\\n",
       "\t10 & 09:00:00 & 945 & 1007 & 1092 & 1081 & 1037 & 984 & 790 & 1032 & 887 & 991 \\\\\n",
       "\t11 & 10:00:00 & 1088 & 1096 & 1131 & 1086 & 1150 & 1151 & 898 & 1110 & 1025 & 1086 \\\\\n",
       "\t12 & 11:00:00 & 1117 & 1143 & 1184 & 1196 & 1215 & 1174 & 1135 & 1171 & 1155 & 1166 \\\\\n",
       "\t13 & 12:00:00 & 1183 & 1209 & 1193 & 1197 & 1182 & 1167 & 1171 & 1193 & 1169 & 1186 \\\\\n",
       "\t14 & 13:00:00 & 1194 & 1200 & 1202 & 1183 & 1171 & 1233 & 1262 & 1190 & 1248 & 1206 \\\\\n",
       "\t15 & 14:00:00 & 1193 & 1241 & 1241 & 1224 & 1128 & 1209 & 1187 & 1205 & 1198 & 1203 \\\\\n",
       "\t16 & 15:00:00 & 1212 & 1163 & 1196 & 1260 & 1076 & 1263 & 1221 & 1181 & 1242 & 1199 \\\\\n",
       "\t17 & 16:00:00 & 1231 & 1268 & 1252 & 1192 & 1201 & 1230 & 1158 & 1229 & 1194 & 1219 \\\\\n",
       "\t18 & 17:00:00 & 1213 & 1268 & 1168 & 1249 & 1187 & 1261 & 1099 & 1217 & 1180 & 1206 \\\\\n",
       "\t19 & 18:00:00 & 1048 & 1214 & 1130 & 1143 & 1207 & 1217 & 1040 & 1148 & 1129 & 1143 \\\\\n",
       "\t20 & 19:00:00 & 864 & 896 & 1063 & 1050 & 1142 & 1155 & 784 & 1003 & 970 & 993 \\\\\n",
       "\t21 & 20:00:00 & 677 & 795 & 849 & 904 & 1044 & 947 & 740 & 854 & 844 & 851 \\\\\n",
       "\t22 & 21:00:00 & 553 & 664 & 682 & 837 & 901 & 802 & 534 & 727 & 668 & 710 \\\\\n",
       "\t23 & 22:00:00 & 373 & 436 & 494 & 484 & 659 & 635 & 357 & 489 & 496 & 491 \\\\\n",
       "\t24 & 23:00:00 & 234 & 233 & 317 & 277 & 428 & 492 & 225 & 298 & 359 & 315 \\\\\n",
       "\\end{tabular}\n"
      ],
      "text/plain": [
       "\u001b[1m24×11 DataFrame\u001b[0m\n",
       "\u001b[1m Row \u001b[0m│\u001b[1m Hour     \u001b[0m\u001b[1m Mon   \u001b[0m\u001b[1m Tue   \u001b[0m\u001b[1m Wed   \u001b[0m\u001b[1m Thu   \u001b[0m\u001b[1m Fri   \u001b[0m\u001b[1m Sat   \u001b[0m\u001b[1m Sun   \u001b[0m\u001b[1m Weekday \u001b[0m\u001b[1m Wee\u001b[0m ⋯\n",
       "     │\u001b[90m Time     \u001b[0m\u001b[90m Int64 \u001b[0m\u001b[90m Int64 \u001b[0m\u001b[90m Int64 \u001b[0m\u001b[90m Int64 \u001b[0m\u001b[90m Int64 \u001b[0m\u001b[90m Int64 \u001b[0m\u001b[90m Int64 \u001b[0m\u001b[90m Int64   \u001b[0m\u001b[90m Int\u001b[0m ⋯\n",
       "─────┼──────────────────────────────────────────────────────────────────────────\n",
       "   1 │ 00:00:00    109    124    146    199    151    307    328      146      ⋯\n",
       "   2 │ 01:00:00     36     73     89     89     75    186    239       72\n",
       "   3 │ 02:00:00     37     31     52     79     61    117    188       52\n",
       "   4 │ 03:00:00     48     68     36     64     47     81    151       53\n",
       "   5 │ 04:00:00     60     75     72    110     88     67     94       81      ⋯\n",
       "   6 │ 05:00:00    155    171    183    164    156    102     95      166\n",
       "   7 │ 06:00:00    502    494    464    490    487    226    172      487\n",
       "   8 │ 07:00:00    858    929    917    864    890    356    241      892\n",
       "   9 │ 08:00:00   1089   1122   1039   1150   1181    624    443     1116      ⋯\n",
       "  10 │ 09:00:00    945   1007   1092   1081   1037    984    790     1032\n",
       "  11 │ 10:00:00   1088   1096   1131   1086   1150   1151    898     1110\n",
       "  ⋮  │    ⋮        ⋮      ⋮      ⋮      ⋮      ⋮      ⋮      ⋮       ⋮         ⋱\n",
       "  15 │ 14:00:00   1193   1241   1241   1224   1128   1209   1187     1205\n",
       "  16 │ 15:00:00   1212   1163   1196   1260   1076   1263   1221     1181      ⋯\n",
       "  17 │ 16:00:00   1231   1268   1252   1192   1201   1230   1158     1229\n",
       "  18 │ 17:00:00   1213   1268   1168   1249   1187   1261   1099     1217\n",
       "  19 │ 18:00:00   1048   1214   1130   1143   1207   1217   1040     1148\n",
       "  20 │ 19:00:00    864    896   1063   1050   1142   1155    784     1003      ⋯\n",
       "  21 │ 20:00:00    677    795    849    904   1044    947    740      854\n",
       "  22 │ 21:00:00    553    664    682    837    901    802    534      727\n",
       "  23 │ 22:00:00    373    436    494    484    659    635    357      489\n",
       "  24 │ 23:00:00    234    233    317    277    428    492    225      298      ⋯\n",
       "\u001b[36m                                                    2 columns and 3 rows omitted\u001b[0m"
      ]
     },
     "execution_count": 2,
     "metadata": {},
     "output_type": "execute_result"
    }
   ],
   "source": [
    "traffic_data = CSV.read(\"Traffic/Riccarton Road 2020_09_17.csv\", DataFrame)"
   ]
  },
  {
   "cell_type": "markdown",
   "metadata": {},
   "source": [
    "Stack all data"
   ]
  },
  {
   "cell_type": "code",
   "execution_count": 3,
   "metadata": {},
   "outputs": [
    {
     "data": {
      "text/html": [
       "<div><div style = \"float: left;\"><span>168×3 DataFrame</span></div><div style = \"float: right;\"><span style = \"font-style: italic;\">143 rows omitted</span></div><div style = \"clear: both;\"></div></div><div class = \"data-frame\" style = \"overflow-x: scroll;\"><table class = \"data-frame\" style = \"margin-bottom: 6px;\"><thead><tr class = \"header\"><th class = \"rowNumber\" style = \"font-weight: bold; text-align: right;\">Row</th><th style = \"text-align: left;\">Hour</th><th style = \"text-align: left;\">variable</th><th style = \"text-align: left;\">value</th></tr><tr class = \"subheader headerLastRow\"><th class = \"rowNumber\" style = \"font-weight: bold; text-align: right;\"></th><th title = \"Dates.Time\" style = \"text-align: left;\">Time</th><th title = \"String\" style = \"text-align: left;\">String</th><th title = \"Int64\" style = \"text-align: left;\">Int64</th></tr></thead><tbody><tr><td class = \"rowNumber\" style = \"font-weight: bold; text-align: right;\">1</td><td style = \"text-align: left;\">00:00:00</td><td style = \"text-align: left;\">Mon</td><td style = \"text-align: right;\">109</td></tr><tr><td class = \"rowNumber\" style = \"font-weight: bold; text-align: right;\">2</td><td style = \"text-align: left;\">01:00:00</td><td style = \"text-align: left;\">Mon</td><td style = \"text-align: right;\">36</td></tr><tr><td class = \"rowNumber\" style = \"font-weight: bold; text-align: right;\">3</td><td style = \"text-align: left;\">02:00:00</td><td style = \"text-align: left;\">Mon</td><td style = \"text-align: right;\">37</td></tr><tr><td class = \"rowNumber\" style = \"font-weight: bold; text-align: right;\">4</td><td style = \"text-align: left;\">03:00:00</td><td style = \"text-align: left;\">Mon</td><td style = \"text-align: right;\">48</td></tr><tr><td class = \"rowNumber\" style = \"font-weight: bold; text-align: right;\">5</td><td style = \"text-align: left;\">04:00:00</td><td style = \"text-align: left;\">Mon</td><td style = \"text-align: right;\">60</td></tr><tr><td class = \"rowNumber\" style = \"font-weight: bold; text-align: right;\">6</td><td style = \"text-align: left;\">05:00:00</td><td style = \"text-align: left;\">Mon</td><td style = \"text-align: right;\">155</td></tr><tr><td class = \"rowNumber\" style = \"font-weight: bold; text-align: right;\">7</td><td style = \"text-align: left;\">06:00:00</td><td style = \"text-align: left;\">Mon</td><td style = \"text-align: right;\">502</td></tr><tr><td class = \"rowNumber\" style = \"font-weight: bold; text-align: right;\">8</td><td style = \"text-align: left;\">07:00:00</td><td style = \"text-align: left;\">Mon</td><td style = \"text-align: right;\">858</td></tr><tr><td class = \"rowNumber\" style = \"font-weight: bold; text-align: right;\">9</td><td style = \"text-align: left;\">08:00:00</td><td style = \"text-align: left;\">Mon</td><td style = \"text-align: right;\">1089</td></tr><tr><td class = \"rowNumber\" style = \"font-weight: bold; text-align: right;\">10</td><td style = \"text-align: left;\">09:00:00</td><td style = \"text-align: left;\">Mon</td><td style = \"text-align: right;\">945</td></tr><tr><td class = \"rowNumber\" style = \"font-weight: bold; text-align: right;\">11</td><td style = \"text-align: left;\">10:00:00</td><td style = \"text-align: left;\">Mon</td><td style = \"text-align: right;\">1088</td></tr><tr><td class = \"rowNumber\" style = \"font-weight: bold; text-align: right;\">12</td><td style = \"text-align: left;\">11:00:00</td><td style = \"text-align: left;\">Mon</td><td style = \"text-align: right;\">1117</td></tr><tr><td class = \"rowNumber\" style = \"font-weight: bold; text-align: right;\">13</td><td style = \"text-align: left;\">12:00:00</td><td style = \"text-align: left;\">Mon</td><td style = \"text-align: right;\">1183</td></tr><tr><td style = \"text-align: right;\">&vellip;</td><td style = \"text-align: right;\">&vellip;</td><td style = \"text-align: right;\">&vellip;</td><td style = \"text-align: right;\">&vellip;</td></tr><tr><td class = \"rowNumber\" style = \"font-weight: bold; text-align: right;\">157</td><td style = \"text-align: left;\">12:00:00</td><td style = \"text-align: left;\">Sun</td><td style = \"text-align: right;\">1171</td></tr><tr><td class = \"rowNumber\" style = \"font-weight: bold; text-align: right;\">158</td><td style = \"text-align: left;\">13:00:00</td><td style = \"text-align: left;\">Sun</td><td style = \"text-align: right;\">1262</td></tr><tr><td class = \"rowNumber\" style = \"font-weight: bold; text-align: right;\">159</td><td style = \"text-align: left;\">14:00:00</td><td style = \"text-align: left;\">Sun</td><td style = \"text-align: right;\">1187</td></tr><tr><td class = \"rowNumber\" style = \"font-weight: bold; text-align: right;\">160</td><td style = \"text-align: left;\">15:00:00</td><td style = \"text-align: left;\">Sun</td><td style = \"text-align: right;\">1221</td></tr><tr><td class = \"rowNumber\" style = \"font-weight: bold; text-align: right;\">161</td><td style = \"text-align: left;\">16:00:00</td><td style = \"text-align: left;\">Sun</td><td style = \"text-align: right;\">1158</td></tr><tr><td class = \"rowNumber\" style = \"font-weight: bold; text-align: right;\">162</td><td style = \"text-align: left;\">17:00:00</td><td style = \"text-align: left;\">Sun</td><td style = \"text-align: right;\">1099</td></tr><tr><td class = \"rowNumber\" style = \"font-weight: bold; text-align: right;\">163</td><td style = \"text-align: left;\">18:00:00</td><td style = \"text-align: left;\">Sun</td><td style = \"text-align: right;\">1040</td></tr><tr><td class = \"rowNumber\" style = \"font-weight: bold; text-align: right;\">164</td><td style = \"text-align: left;\">19:00:00</td><td style = \"text-align: left;\">Sun</td><td style = \"text-align: right;\">784</td></tr><tr><td class = \"rowNumber\" style = \"font-weight: bold; text-align: right;\">165</td><td style = \"text-align: left;\">20:00:00</td><td style = \"text-align: left;\">Sun</td><td style = \"text-align: right;\">740</td></tr><tr><td class = \"rowNumber\" style = \"font-weight: bold; text-align: right;\">166</td><td style = \"text-align: left;\">21:00:00</td><td style = \"text-align: left;\">Sun</td><td style = \"text-align: right;\">534</td></tr><tr><td class = \"rowNumber\" style = \"font-weight: bold; text-align: right;\">167</td><td style = \"text-align: left;\">22:00:00</td><td style = \"text-align: left;\">Sun</td><td style = \"text-align: right;\">357</td></tr><tr><td class = \"rowNumber\" style = \"font-weight: bold; text-align: right;\">168</td><td style = \"text-align: left;\">23:00:00</td><td style = \"text-align: left;\">Sun</td><td style = \"text-align: right;\">225</td></tr></tbody></table></div>"
      ],
      "text/latex": [
       "\\begin{tabular}{r|ccc}\n",
       "\t& Hour & variable & value\\\\\n",
       "\t\\hline\n",
       "\t& Time & String & Int64\\\\\n",
       "\t\\hline\n",
       "\t1 & 00:00:00 & Mon & 109 \\\\\n",
       "\t2 & 01:00:00 & Mon & 36 \\\\\n",
       "\t3 & 02:00:00 & Mon & 37 \\\\\n",
       "\t4 & 03:00:00 & Mon & 48 \\\\\n",
       "\t5 & 04:00:00 & Mon & 60 \\\\\n",
       "\t6 & 05:00:00 & Mon & 155 \\\\\n",
       "\t7 & 06:00:00 & Mon & 502 \\\\\n",
       "\t8 & 07:00:00 & Mon & 858 \\\\\n",
       "\t9 & 08:00:00 & Mon & 1089 \\\\\n",
       "\t10 & 09:00:00 & Mon & 945 \\\\\n",
       "\t11 & 10:00:00 & Mon & 1088 \\\\\n",
       "\t12 & 11:00:00 & Mon & 1117 \\\\\n",
       "\t13 & 12:00:00 & Mon & 1183 \\\\\n",
       "\t14 & 13:00:00 & Mon & 1194 \\\\\n",
       "\t15 & 14:00:00 & Mon & 1193 \\\\\n",
       "\t16 & 15:00:00 & Mon & 1212 \\\\\n",
       "\t17 & 16:00:00 & Mon & 1231 \\\\\n",
       "\t18 & 17:00:00 & Mon & 1213 \\\\\n",
       "\t19 & 18:00:00 & Mon & 1048 \\\\\n",
       "\t20 & 19:00:00 & Mon & 864 \\\\\n",
       "\t21 & 20:00:00 & Mon & 677 \\\\\n",
       "\t22 & 21:00:00 & Mon & 553 \\\\\n",
       "\t23 & 22:00:00 & Mon & 373 \\\\\n",
       "\t24 & 23:00:00 & Mon & 234 \\\\\n",
       "\t25 & 00:00:00 & Tue & 124 \\\\\n",
       "\t26 & 01:00:00 & Tue & 73 \\\\\n",
       "\t27 & 02:00:00 & Tue & 31 \\\\\n",
       "\t28 & 03:00:00 & Tue & 68 \\\\\n",
       "\t29 & 04:00:00 & Tue & 75 \\\\\n",
       "\t30 & 05:00:00 & Tue & 171 \\\\\n",
       "\t$\\dots$ & $\\dots$ & $\\dots$ & $\\dots$ \\\\\n",
       "\\end{tabular}\n"
      ],
      "text/plain": [
       "\u001b[1m168×3 DataFrame\u001b[0m\n",
       "\u001b[1m Row \u001b[0m│\u001b[1m Hour     \u001b[0m\u001b[1m variable \u001b[0m\u001b[1m value \u001b[0m\n",
       "     │\u001b[90m Time     \u001b[0m\u001b[90m String   \u001b[0m\u001b[90m Int64 \u001b[0m\n",
       "─────┼───────────────────────────\n",
       "   1 │ 00:00:00  Mon         109\n",
       "   2 │ 01:00:00  Mon          36\n",
       "   3 │ 02:00:00  Mon          37\n",
       "   4 │ 03:00:00  Mon          48\n",
       "   5 │ 04:00:00  Mon          60\n",
       "   6 │ 05:00:00  Mon         155\n",
       "   7 │ 06:00:00  Mon         502\n",
       "   8 │ 07:00:00  Mon         858\n",
       "   9 │ 08:00:00  Mon        1089\n",
       "  10 │ 09:00:00  Mon         945\n",
       "  11 │ 10:00:00  Mon        1088\n",
       "  ⋮  │    ⋮         ⋮        ⋮\n",
       " 159 │ 14:00:00  Sun        1187\n",
       " 160 │ 15:00:00  Sun        1221\n",
       " 161 │ 16:00:00  Sun        1158\n",
       " 162 │ 17:00:00  Sun        1099\n",
       " 163 │ 18:00:00  Sun        1040\n",
       " 164 │ 19:00:00  Sun         784\n",
       " 165 │ 20:00:00  Sun         740\n",
       " 166 │ 21:00:00  Sun         534\n",
       " 167 │ 22:00:00  Sun         357\n",
       " 168 │ 23:00:00  Sun         225\n",
       "\u001b[36m                 147 rows omitted\u001b[0m"
      ]
     },
     "execution_count": 3,
     "metadata": {},
     "output_type": "execute_result"
    }
   ],
   "source": [
    "days = names(traffic_data)[2:8]\n",
    "traffic_collated = stack(traffic_data, days)\n",
    "traffic_collated = traffic_collated[:,[1,5,6]]"
   ]
  },
  {
   "cell_type": "markdown",
   "metadata": {},
   "source": [
    "Plot Traffic Data for Riccarton Road"
   ]
  },
  {
   "cell_type": "code",
   "execution_count": 12,
   "metadata": {},
   "outputs": [
    {
     "ename": "LoadError",
     "evalue": "MethodError: no method matching popdisplay(::Plot)\n\n\u001b[0mClosest candidates are:\n\u001b[0m  popdisplay()\n\u001b[0m\u001b[90m   @\u001b[39m \u001b[90mBase\u001b[39m \u001b[90m\u001b[4mmultimedia.jl:293\u001b[24m\u001b[39m\n\u001b[0m  popdisplay(\u001b[91m::AbstractDisplay\u001b[39m)\n\u001b[0m\u001b[90m   @\u001b[39m \u001b[90mBase\u001b[39m \u001b[90m\u001b[4mmultimedia.jl:294\u001b[24m\u001b[39m\n",
     "output_type": "error",
     "traceback": [
      "MethodError: no method matching popdisplay(::Plot)\n\n\u001b[0mClosest candidates are:\n\u001b[0m  popdisplay()\n\u001b[0m\u001b[90m   @\u001b[39m \u001b[90mBase\u001b[39m \u001b[90m\u001b[4mmultimedia.jl:293\u001b[24m\u001b[39m\n\u001b[0m  popdisplay(\u001b[91m::AbstractDisplay\u001b[39m)\n\u001b[0m\u001b[90m   @\u001b[39m \u001b[90mBase\u001b[39m \u001b[90m\u001b[4mmultimedia.jl:294\u001b[24m\u001b[39m\n",
      "",
      "Stacktrace:",
      " [1] top-level scope",
      "   @ In[12]:2"
     ]
    }
   ],
   "source": [
    "p = plot(traffic_collated, x=:Hour, y=:value, color=:variable, Geom.point)\n",
    "popdisplay(p)"
   ]
  }
 ],
 "metadata": {
  "kernelspec": {
   "display_name": "Julia 1.9.2",
   "language": "julia",
   "name": "julia-1.9"
  },
  "language_info": {
   "file_extension": ".jl",
   "mimetype": "application/julia",
   "name": "julia",
   "version": "1.9.2"
  }
 },
 "nbformat": 4,
 "nbformat_minor": 2
}
