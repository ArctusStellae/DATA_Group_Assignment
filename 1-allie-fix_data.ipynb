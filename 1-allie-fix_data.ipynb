{
 "cells": [
  {
   "cell_type": "markdown",
   "id": "96e4045c-ace3-4d04-9a86-d2cec9cc9722",
   "metadata": {},
   "source": [
    "## code: gathering the data\n",
    "\n",
    "by: Allie\n",
    "\n",
    "**Purpose**\n",
    "\n",
    "This code chunk assumes that hourly air pollutant data has been extracted from Environment Canterbury's website, with files formatted as \"hourly_(site location).csv\" and placed in a directory \"hourly_data\" within the present working directory. \n",
    "\n",
    "As per Environment Canterbury's data tool, data is separated by measurement site. This code therefore combines data for each site into a single dataframe. It also corrects the time and date formatting and removes obsolete columns.  \n",
    "\n",
    "**Source:** https://data.ecan.govt.nz/Catalogue/Method?MethodId=23#tab-data\n",
    "\n",
    "**Note:** This block has been separated from the main code block as it takes a while to complete and only needs to be performed once. \n"
   ]
  },
  {
   "cell_type": "code",
   "execution_count": null,
   "id": "43fb0192-cd73-40a0-ae4c-9c914ec28042",
   "metadata": {},
   "outputs": [],
   "source": [
    "library(tidyverse)\n",
    "\n",
    "# Get the list of files in the \"hourly_data\" folder with the \"hourly_\" prefix\n",
    "data_files = list.files(path = \"hourly_data\\\\\", pattern = \"^hourly_\")\n",
    "\n",
    "# Read these files and pipe to a bind_rows function to combine them into one frame\n",
    "data_full = lapply(paste(\"hourly_data\\\\\",data_files,sep=\"\"),read.csv,header=TRUE) %>% bind_rows\n",
    "\n",
    "# Correct the date and time formatting using as.POSIX, separate date and time, then obtain weekdays.\n",
    "nz_time = \"Pacific/Auckland\"\n",
    "data_full$observation_date = as.POSIXct(data_full$observation_date,format=\"%d/%m/%Y %I:%M:%S %p\")\n",
    "data_full$obs_date = as.Date(data_full$observation_date,tz=nz_time)\n",
    "data_full$obs_time = format(data_full$observation_date,\"%H:%M:%S\",tz=nz_time)\n",
    "data_full$weekday = weekdays(data_full$obs_date)\n",
    "\n",
    "# Arrange by site, date, contaminant, and time\n",
    "data_full = data_full %>% arrange(site_name,obs_date,contaminant,obs_time)\n",
    "\n",
    "# Write full file to current working directory\n",
    "write.csv(data_full, file=\"full_hourly_data.csv\", row.names=FALSE)\n",
    "\n",
    "# Create a smaller subset of this data, retaining only the relevant columns and write to working directory\n",
    "data_smaller = data_full %>% select(site_name,contaminant,value,obs_date,obs_time,weekday)\n",
    "write.csv(data_smaller, file=\"full_hourly_smaller.csv\", row.names=FALSE)"
   ]
  }
 ],
 "metadata": {
  "kernelspec": {
   "display_name": "R",
   "language": "R",
   "name": "ir"
  },
  "language_info": {
   "codemirror_mode": "r",
   "file_extension": ".r",
   "mimetype": "text/x-r-source",
   "name": "R",
   "pygments_lexer": "r",
   "version": "4.2.3"
  }
 },
 "nbformat": 4,
 "nbformat_minor": 5
}
